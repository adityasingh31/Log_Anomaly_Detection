{
 "cells": [
  {
   "cell_type": "markdown",
   "id": "266256fa",
   "metadata": {
    "papermill": {
     "duration": 0.017333,
     "end_time": "2022-12-14T07:25:06.685081",
     "exception": false,
     "start_time": "2022-12-14T07:25:06.667748",
     "status": "completed"
    },
    "tags": []
   },
   "source": [
    "# importing the libraries"
   ]
  },
  {
   "cell_type": "code",
   "execution_count": 1,
   "id": "c6a041c0",
   "metadata": {
    "execution": {
     "iopub.execute_input": "2022-12-14T07:25:06.718517Z",
     "iopub.status.busy": "2022-12-14T07:25:06.717746Z",
     "iopub.status.idle": "2022-12-14T07:25:06.728330Z",
     "shell.execute_reply": "2022-12-14T07:25:06.727128Z"
    },
    "papermill": {
     "duration": 0.03039,
     "end_time": "2022-12-14T07:25:06.731182",
     "exception": false,
     "start_time": "2022-12-14T07:25:06.700792",
     "status": "completed"
    },
    "tags": []
   },
   "outputs": [],
   "source": [
    "import pandas as pd\n",
    "import numpy as np\n",
    "from matplotlib import pyplot as plt"
   ]
  },
  {
   "cell_type": "markdown",
   "id": "29ecf8ba",
   "metadata": {
    "papermill": {
     "duration": 0.015353,
     "end_time": "2022-12-14T07:25:06.762393",
     "exception": false,
     "start_time": "2022-12-14T07:25:06.747040",
     "status": "completed"
    },
    "tags": []
   },
   "source": [
    "# importing the training file"
   ]
  },
  {
   "cell_type": "code",
   "execution_count": 2,
   "id": "f4931a21",
   "metadata": {
    "execution": {
     "iopub.execute_input": "2022-12-14T07:25:06.796580Z",
     "iopub.status.busy": "2022-12-14T07:25:06.796154Z",
     "iopub.status.idle": "2022-12-14T07:25:19.072901Z",
     "shell.execute_reply": "2022-12-14T07:25:19.071063Z"
    },
    "papermill": {
     "duration": 12.297348,
     "end_time": "2022-12-14T07:25:19.075994",
     "exception": false,
     "start_time": "2022-12-14T07:25:06.778646",
     "status": "completed"
    },
    "tags": []
   },
   "outputs": [],
   "source": [
    "df = pd.read_json(\"/kaggle/input/convolve-epoch1/train.json\", orient=\"index\").reset_index()\n",
    "# renaming columns\n",
    "df.rename(mapper={\n",
    "        \"index\": \"features\",\n",
    "        0: \"label\"\n",
    "    }, \n",
    "    axis=\"columns\",\n",
    "    inplace=True)"
   ]
  },
  {
   "cell_type": "markdown",
   "id": "272bfd58",
   "metadata": {
    "papermill": {
     "duration": 0.015217,
     "end_time": "2022-12-14T07:25:19.106830",
     "exception": false,
     "start_time": "2022-12-14T07:25:19.091613",
     "status": "completed"
    },
    "tags": []
   },
   "source": [
    "# Preprocessing"
   ]
  },
  {
   "cell_type": "code",
   "execution_count": 3,
   "id": "de2a431b",
   "metadata": {
    "execution": {
     "iopub.execute_input": "2022-12-14T07:25:19.139731Z",
     "iopub.status.busy": "2022-12-14T07:25:19.139262Z",
     "iopub.status.idle": "2022-12-14T07:25:34.865534Z",
     "shell.execute_reply": "2022-12-14T07:25:34.863703Z"
    },
    "papermill": {
     "duration": 15.746428,
     "end_time": "2022-12-14T07:25:34.868684",
     "exception": false,
     "start_time": "2022-12-14T07:25:19.122256",
     "status": "completed"
    },
    "tags": []
   },
   "outputs": [],
   "source": [
    "columns = [0, 1, 2, 3, 9]\n",
    "df[columns] = df.features.str.split(n=4, expand=True)"
   ]
  },
  {
   "cell_type": "code",
   "execution_count": 4,
   "id": "f2762718",
   "metadata": {
    "execution": {
     "iopub.execute_input": "2022-12-14T07:25:34.902996Z",
     "iopub.status.busy": "2022-12-14T07:25:34.902345Z",
     "iopub.status.idle": "2022-12-14T07:26:47.145724Z",
     "shell.execute_reply": "2022-12-14T07:26:47.144573Z"
    },
    "papermill": {
     "duration": 72.263364,
     "end_time": "2022-12-14T07:26:47.148510",
     "exception": false,
     "start_time": "2022-12-14T07:25:34.885146",
     "status": "completed"
    },
    "tags": []
   },
   "outputs": [],
   "source": [
    "df[9] = df.apply(lambda x: x[9].split(\" \", 1)[1] if x[2] != \"-\" else x[9], axis=\"columns\")"
   ]
  },
  {
   "cell_type": "code",
   "execution_count": 5,
   "id": "f083b056",
   "metadata": {
    "execution": {
     "iopub.execute_input": "2022-12-14T07:26:47.181425Z",
     "iopub.status.busy": "2022-12-14T07:26:47.181025Z",
     "iopub.status.idle": "2022-12-14T07:27:09.232314Z",
     "shell.execute_reply": "2022-12-14T07:27:09.231122Z"
    },
    "papermill": {
     "duration": 22.070714,
     "end_time": "2022-12-14T07:27:09.235054",
     "exception": false,
     "start_time": "2022-12-14T07:26:47.164340",
     "status": "completed"
    },
    "tags": []
   },
   "outputs": [],
   "source": [
    "split = df[9].str.split(n=4, expand=True)\n",
    "df[4] = split[0] + \" \" + split[1] + \" \" + split[2] \n",
    "df[9] = split[3] + \" \" + split[4]"
   ]
  },
  {
   "cell_type": "code",
   "execution_count": 6,
   "id": "88102063",
   "metadata": {
    "execution": {
     "iopub.execute_input": "2022-12-14T07:27:09.267899Z",
     "iopub.status.busy": "2022-12-14T07:27:09.267160Z",
     "iopub.status.idle": "2022-12-14T07:27:25.621027Z",
     "shell.execute_reply": "2022-12-14T07:27:25.620047Z"
    },
    "papermill": {
     "duration": 16.37319,
     "end_time": "2022-12-14T07:27:25.623721",
     "exception": false,
     "start_time": "2022-12-14T07:27:09.250531",
     "status": "completed"
    },
    "tags": []
   },
   "outputs": [],
   "source": [
    "df.rename(mapper={\n",
    "        0: \"ErrorId\",\n",
    "        2: \"ErrorCode\",\n",
    "        3: \"TimeStamp\",\n",
    "        9: \"Details\",\n",
    "        4: \"ErrorType\"\n",
    "},\n",
    "    axis=\"columns\",\n",
    "    inplace=True)\n",
    "df[\"Abnormal\"] = df[\"label\"].map(lambda x: 1 if x == \"abnormal\" else 0)\n",
    "split = df[\"ErrorType\"].str.split(expand=True)\n",
    "df[\"ErrorLoc\"] = split[0] + split[1]\n",
    "df[\"ErrorType\"] = split[2]"
   ]
  },
  {
   "cell_type": "code",
   "execution_count": 7,
   "id": "c48837ca",
   "metadata": {
    "execution": {
     "iopub.execute_input": "2022-12-14T07:27:25.656266Z",
     "iopub.status.busy": "2022-12-14T07:27:25.655874Z",
     "iopub.status.idle": "2022-12-14T07:27:41.070009Z",
     "shell.execute_reply": "2022-12-14T07:27:41.068798Z"
    },
    "papermill": {
     "duration": 15.433474,
     "end_time": "2022-12-14T07:27:41.072818",
     "exception": false,
     "start_time": "2022-12-14T07:27:25.639344",
     "status": "completed"
    },
    "tags": []
   },
   "outputs": [],
   "source": [
    "df[[\"Code0\", \"Code1\", \"Code2\", \"Code3\", \"Code4\"]] = df[\"ErrorCode\"].str.split(\"-\", expand=True)"
   ]
  },
  {
   "cell_type": "code",
   "execution_count": 8,
   "id": "d8d5a41c",
   "metadata": {
    "execution": {
     "iopub.execute_input": "2022-12-14T07:27:41.105437Z",
     "iopub.status.busy": "2022-12-14T07:27:41.104817Z",
     "iopub.status.idle": "2022-12-14T07:27:56.558662Z",
     "shell.execute_reply": "2022-12-14T07:27:56.557532Z"
    },
    "papermill": {
     "duration": 15.473311,
     "end_time": "2022-12-14T07:27:56.561507",
     "exception": false,
     "start_time": "2022-12-14T07:27:41.088196",
     "status": "completed"
    },
    "tags": []
   },
   "outputs": [],
   "source": [
    "df[\"TimeStamp\"] = pd.to_datetime(df[\"TimeStamp\"], format=\"%Y-%m-%d-%H.%M.%S.%f\")"
   ]
  },
  {
   "cell_type": "code",
   "execution_count": 9,
   "id": "f519537f",
   "metadata": {
    "execution": {
     "iopub.execute_input": "2022-12-14T07:27:56.594122Z",
     "iopub.status.busy": "2022-12-14T07:27:56.593711Z",
     "iopub.status.idle": "2022-12-14T07:28:20.791224Z",
     "shell.execute_reply": "2022-12-14T07:28:20.790068Z"
    },
    "papermill": {
     "duration": 24.216992,
     "end_time": "2022-12-14T07:28:20.794051",
     "exception": false,
     "start_time": "2022-12-14T07:27:56.577059",
     "status": "completed"
    },
    "tags": []
   },
   "outputs": [],
   "source": [
    "id_col = [\"id1\", \"id2\", \"id3\", \"id4\", \"id5\", \"id6\", \"id7\", \"id8\", \"id9\", \"id10\"]\n",
    "df[id_col] = df[\"ErrorId\"].str.split(\"\", expand=True)[[1, 2, 3, 4, 5, 6, 7, 8, 9, 10]]"
   ]
  },
  {
   "cell_type": "markdown",
   "id": "3ac0b3d7",
   "metadata": {
    "papermill": {
     "duration": 0.015916,
     "end_time": "2022-12-14T07:28:20.825885",
     "exception": false,
     "start_time": "2022-12-14T07:28:20.809969",
     "status": "completed"
    },
    "tags": []
   },
   "source": [
    "As id2, id1 have only 1 unique value (i.e., 1), we are dropping them"
   ]
  },
  {
   "cell_type": "code",
   "execution_count": 10,
   "id": "e6f2717a",
   "metadata": {
    "execution": {
     "iopub.execute_input": "2022-12-14T07:28:20.859554Z",
     "iopub.status.busy": "2022-12-14T07:28:20.858773Z",
     "iopub.status.idle": "2022-12-14T07:28:28.022518Z",
     "shell.execute_reply": "2022-12-14T07:28:28.021343Z"
    },
    "papermill": {
     "duration": 7.183598,
     "end_time": "2022-12-14T07:28:28.025174",
     "exception": false,
     "start_time": "2022-12-14T07:28:20.841576",
     "status": "completed"
    },
    "tags": []
   },
   "outputs": [],
   "source": [
    "df = df[[\"id3\", \"id4\", \"id5\", \"id6\", \"id7\", \"id8\", \"id9\", \"id10\", \"Code0\", \"Code1\", \"Code2\", \"Code3\", \"Code4\", \"TimeStamp\", \"ErrorLoc\", \"ErrorType\", \"Details\", \"Abnormal\"]]"
   ]
  },
  {
   "cell_type": "code",
   "execution_count": 11,
   "id": "83858508",
   "metadata": {
    "execution": {
     "iopub.execute_input": "2022-12-14T07:28:28.058383Z",
     "iopub.status.busy": "2022-12-14T07:28:28.057930Z",
     "iopub.status.idle": "2022-12-14T07:28:28.091551Z",
     "shell.execute_reply": "2022-12-14T07:28:28.090305Z"
    },
    "papermill": {
     "duration": 0.053809,
     "end_time": "2022-12-14T07:28:28.094802",
     "exception": false,
     "start_time": "2022-12-14T07:28:28.040993",
     "status": "completed"
    },
    "tags": []
   },
   "outputs": [
    {
     "data": {
      "text/html": [
       "<div>\n",
       "<style scoped>\n",
       "    .dataframe tbody tr th:only-of-type {\n",
       "        vertical-align: middle;\n",
       "    }\n",
       "\n",
       "    .dataframe tbody tr th {\n",
       "        vertical-align: top;\n",
       "    }\n",
       "\n",
       "    .dataframe thead th {\n",
       "        text-align: right;\n",
       "    }\n",
       "</style>\n",
       "<table border=\"1\" class=\"dataframe\">\n",
       "  <thead>\n",
       "    <tr style=\"text-align: right;\">\n",
       "      <th></th>\n",
       "      <th>id3</th>\n",
       "      <th>id4</th>\n",
       "      <th>id5</th>\n",
       "      <th>id6</th>\n",
       "      <th>id7</th>\n",
       "      <th>id8</th>\n",
       "      <th>id9</th>\n",
       "      <th>id10</th>\n",
       "      <th>Code0</th>\n",
       "      <th>Code1</th>\n",
       "      <th>Code2</th>\n",
       "      <th>Code3</th>\n",
       "      <th>Code4</th>\n",
       "      <th>TimeStamp</th>\n",
       "      <th>ErrorLoc</th>\n",
       "      <th>ErrorType</th>\n",
       "      <th>Details</th>\n",
       "      <th>Abnormal</th>\n",
       "    </tr>\n",
       "  </thead>\n",
       "  <tbody>\n",
       "    <tr>\n",
       "      <th>0</th>\n",
       "      <td>1</td>\n",
       "      <td>7</td>\n",
       "      <td>8</td>\n",
       "      <td>3</td>\n",
       "      <td>8</td>\n",
       "      <td>5</td>\n",
       "      <td>7</td>\n",
       "      <td>0</td>\n",
       "      <td>R02</td>\n",
       "      <td>M1</td>\n",
       "      <td>N0</td>\n",
       "      <td>C:J12</td>\n",
       "      <td>U11</td>\n",
       "      <td>2005-06-03 15:42:50.363779</td>\n",
       "      <td>RASKERNEL</td>\n",
       "      <td>INFO</td>\n",
       "      <td>instruction cache parity error corrected\\n</td>\n",
       "      <td>0</td>\n",
       "    </tr>\n",
       "    <tr>\n",
       "      <th>1</th>\n",
       "      <td>1</td>\n",
       "      <td>7</td>\n",
       "      <td>8</td>\n",
       "      <td>3</td>\n",
       "      <td>8</td>\n",
       "      <td>5</td>\n",
       "      <td>7</td>\n",
       "      <td>0</td>\n",
       "      <td>R02</td>\n",
       "      <td>M1</td>\n",
       "      <td>N0</td>\n",
       "      <td>C:J12</td>\n",
       "      <td>U11</td>\n",
       "      <td>2005-06-03 15:42:50.527847</td>\n",
       "      <td>RASKERNEL</td>\n",
       "      <td>INFO</td>\n",
       "      <td>instruction cache parity error corrected\\n</td>\n",
       "      <td>0</td>\n",
       "    </tr>\n",
       "    <tr>\n",
       "      <th>2</th>\n",
       "      <td>1</td>\n",
       "      <td>7</td>\n",
       "      <td>8</td>\n",
       "      <td>3</td>\n",
       "      <td>8</td>\n",
       "      <td>5</td>\n",
       "      <td>7</td>\n",
       "      <td>0</td>\n",
       "      <td>R02</td>\n",
       "      <td>M1</td>\n",
       "      <td>N0</td>\n",
       "      <td>C:J12</td>\n",
       "      <td>U11</td>\n",
       "      <td>2005-06-03 15:42:50.675872</td>\n",
       "      <td>RASKERNEL</td>\n",
       "      <td>INFO</td>\n",
       "      <td>instruction cache parity error corrected\\n</td>\n",
       "      <td>0</td>\n",
       "    </tr>\n",
       "    <tr>\n",
       "      <th>3</th>\n",
       "      <td>1</td>\n",
       "      <td>7</td>\n",
       "      <td>8</td>\n",
       "      <td>3</td>\n",
       "      <td>8</td>\n",
       "      <td>5</td>\n",
       "      <td>7</td>\n",
       "      <td>0</td>\n",
       "      <td>R02</td>\n",
       "      <td>M1</td>\n",
       "      <td>N0</td>\n",
       "      <td>C:J12</td>\n",
       "      <td>U11</td>\n",
       "      <td>2005-06-03 15:42:50.823719</td>\n",
       "      <td>RASKERNEL</td>\n",
       "      <td>INFO</td>\n",
       "      <td>instruction cache parity error corrected\\n</td>\n",
       "      <td>0</td>\n",
       "    </tr>\n",
       "    <tr>\n",
       "      <th>4</th>\n",
       "      <td>1</td>\n",
       "      <td>7</td>\n",
       "      <td>8</td>\n",
       "      <td>3</td>\n",
       "      <td>8</td>\n",
       "      <td>5</td>\n",
       "      <td>7</td>\n",
       "      <td>0</td>\n",
       "      <td>R02</td>\n",
       "      <td>M1</td>\n",
       "      <td>N0</td>\n",
       "      <td>C:J12</td>\n",
       "      <td>U11</td>\n",
       "      <td>2005-06-03 15:42:50.982731</td>\n",
       "      <td>RASKERNEL</td>\n",
       "      <td>INFO</td>\n",
       "      <td>instruction cache parity error corrected\\n</td>\n",
       "      <td>0</td>\n",
       "    </tr>\n",
       "    <tr>\n",
       "      <th>...</th>\n",
       "      <td>...</td>\n",
       "      <td>...</td>\n",
       "      <td>...</td>\n",
       "      <td>...</td>\n",
       "      <td>...</td>\n",
       "      <td>...</td>\n",
       "      <td>...</td>\n",
       "      <td>...</td>\n",
       "      <td>...</td>\n",
       "      <td>...</td>\n",
       "      <td>...</td>\n",
       "      <td>...</td>\n",
       "      <td>...</td>\n",
       "      <td>...</td>\n",
       "      <td>...</td>\n",
       "      <td>...</td>\n",
       "      <td>...</td>\n",
       "      <td>...</td>\n",
       "    </tr>\n",
       "    <tr>\n",
       "      <th>4152654</th>\n",
       "      <td>1</td>\n",
       "      <td>8</td>\n",
       "      <td>5</td>\n",
       "      <td>4</td>\n",
       "      <td>5</td>\n",
       "      <td>5</td>\n",
       "      <td>3</td>\n",
       "      <td>0</td>\n",
       "      <td>R30</td>\n",
       "      <td>M0</td>\n",
       "      <td>N9</td>\n",
       "      <td>C:J16</td>\n",
       "      <td>U01</td>\n",
       "      <td>2005-06-11 20:05:30.386651</td>\n",
       "      <td>RASKERNEL</td>\n",
       "      <td>FATAL</td>\n",
       "      <td>data TLB error interrupt</td>\n",
       "      <td>1</td>\n",
       "    </tr>\n",
       "    <tr>\n",
       "      <th>4152655</th>\n",
       "      <td>1</td>\n",
       "      <td>8</td>\n",
       "      <td>5</td>\n",
       "      <td>4</td>\n",
       "      <td>5</td>\n",
       "      <td>5</td>\n",
       "      <td>3</td>\n",
       "      <td>0</td>\n",
       "      <td>R30</td>\n",
       "      <td>M0</td>\n",
       "      <td>N9</td>\n",
       "      <td>C:J16</td>\n",
       "      <td>U01</td>\n",
       "      <td>2005-06-11 20:05:30.558220</td>\n",
       "      <td>RASKERNEL</td>\n",
       "      <td>FATAL</td>\n",
       "      <td>data TLB error interrupt</td>\n",
       "      <td>1</td>\n",
       "    </tr>\n",
       "    <tr>\n",
       "      <th>4152656</th>\n",
       "      <td>1</td>\n",
       "      <td>8</td>\n",
       "      <td>5</td>\n",
       "      <td>4</td>\n",
       "      <td>5</td>\n",
       "      <td>5</td>\n",
       "      <td>3</td>\n",
       "      <td>0</td>\n",
       "      <td>R30</td>\n",
       "      <td>M0</td>\n",
       "      <td>N9</td>\n",
       "      <td>C:J16</td>\n",
       "      <td>U01</td>\n",
       "      <td>2005-06-11 20:05:30.675784</td>\n",
       "      <td>RASKERNEL</td>\n",
       "      <td>FATAL</td>\n",
       "      <td>data TLB error interrupt</td>\n",
       "      <td>1</td>\n",
       "    </tr>\n",
       "    <tr>\n",
       "      <th>4152657</th>\n",
       "      <td>1</td>\n",
       "      <td>8</td>\n",
       "      <td>5</td>\n",
       "      <td>4</td>\n",
       "      <td>5</td>\n",
       "      <td>5</td>\n",
       "      <td>3</td>\n",
       "      <td>0</td>\n",
       "      <td>R30</td>\n",
       "      <td>M0</td>\n",
       "      <td>N9</td>\n",
       "      <td>C:J16</td>\n",
       "      <td>U01</td>\n",
       "      <td>2005-06-11 20:05:30.777307</td>\n",
       "      <td>RASKERNEL</td>\n",
       "      <td>FATAL</td>\n",
       "      <td>data TLB error interrupt</td>\n",
       "      <td>1</td>\n",
       "    </tr>\n",
       "    <tr>\n",
       "      <th>4152658</th>\n",
       "      <td>1</td>\n",
       "      <td>8</td>\n",
       "      <td>5</td>\n",
       "      <td>4</td>\n",
       "      <td>5</td>\n",
       "      <td>5</td>\n",
       "      <td>3</td>\n",
       "      <td>0</td>\n",
       "      <td>R30</td>\n",
       "      <td>M0</td>\n",
       "      <td>N9</td>\n",
       "      <td>C:J16</td>\n",
       "      <td>U01</td>\n",
       "      <td>2005-06-11 20:05:30.937080</td>\n",
       "      <td>RASKERNEL</td>\n",
       "      <td>FATAL</td>\n",
       "      <td>data TLB error interrupt</td>\n",
       "      <td>1</td>\n",
       "    </tr>\n",
       "  </tbody>\n",
       "</table>\n",
       "<p>4152659 rows × 18 columns</p>\n",
       "</div>"
      ],
      "text/plain": [
       "        id3 id4 id5 id6 id7 id8 id9 id10 Code0 Code1 Code2  Code3 Code4  \\\n",
       "0         1   7   8   3   8   5   7    0   R02    M1    N0  C:J12   U11   \n",
       "1         1   7   8   3   8   5   7    0   R02    M1    N0  C:J12   U11   \n",
       "2         1   7   8   3   8   5   7    0   R02    M1    N0  C:J12   U11   \n",
       "3         1   7   8   3   8   5   7    0   R02    M1    N0  C:J12   U11   \n",
       "4         1   7   8   3   8   5   7    0   R02    M1    N0  C:J12   U11   \n",
       "...      ..  ..  ..  ..  ..  ..  ..  ...   ...   ...   ...    ...   ...   \n",
       "4152654   1   8   5   4   5   5   3    0   R30    M0    N9  C:J16   U01   \n",
       "4152655   1   8   5   4   5   5   3    0   R30    M0    N9  C:J16   U01   \n",
       "4152656   1   8   5   4   5   5   3    0   R30    M0    N9  C:J16   U01   \n",
       "4152657   1   8   5   4   5   5   3    0   R30    M0    N9  C:J16   U01   \n",
       "4152658   1   8   5   4   5   5   3    0   R30    M0    N9  C:J16   U01   \n",
       "\n",
       "                         TimeStamp   ErrorLoc ErrorType  \\\n",
       "0       2005-06-03 15:42:50.363779  RASKERNEL      INFO   \n",
       "1       2005-06-03 15:42:50.527847  RASKERNEL      INFO   \n",
       "2       2005-06-03 15:42:50.675872  RASKERNEL      INFO   \n",
       "3       2005-06-03 15:42:50.823719  RASKERNEL      INFO   \n",
       "4       2005-06-03 15:42:50.982731  RASKERNEL      INFO   \n",
       "...                            ...        ...       ...   \n",
       "4152654 2005-06-11 20:05:30.386651  RASKERNEL     FATAL   \n",
       "4152655 2005-06-11 20:05:30.558220  RASKERNEL     FATAL   \n",
       "4152656 2005-06-11 20:05:30.675784  RASKERNEL     FATAL   \n",
       "4152657 2005-06-11 20:05:30.777307  RASKERNEL     FATAL   \n",
       "4152658 2005-06-11 20:05:30.937080  RASKERNEL     FATAL   \n",
       "\n",
       "                                            Details  Abnormal  \n",
       "0        instruction cache parity error corrected\\n         0  \n",
       "1        instruction cache parity error corrected\\n         0  \n",
       "2        instruction cache parity error corrected\\n         0  \n",
       "3        instruction cache parity error corrected\\n         0  \n",
       "4        instruction cache parity error corrected\\n         0  \n",
       "...                                             ...       ...  \n",
       "4152654                    data TLB error interrupt         1  \n",
       "4152655                    data TLB error interrupt         1  \n",
       "4152656                    data TLB error interrupt         1  \n",
       "4152657                    data TLB error interrupt         1  \n",
       "4152658                    data TLB error interrupt         1  \n",
       "\n",
       "[4152659 rows x 18 columns]"
      ]
     },
     "execution_count": 11,
     "metadata": {},
     "output_type": "execute_result"
    }
   ],
   "source": [
    "df"
   ]
  },
  {
   "cell_type": "markdown",
   "id": "583a2084",
   "metadata": {
    "papermill": {
     "duration": 0.015886,
     "end_time": "2022-12-14T07:28:28.126955",
     "exception": false,
     "start_time": "2022-12-14T07:28:28.111069",
     "status": "completed"
    },
    "tags": []
   },
   "source": [
    "# EDA"
   ]
  },
  {
   "cell_type": "code",
   "execution_count": 12,
   "id": "000525bb",
   "metadata": {
    "execution": {
     "iopub.execute_input": "2022-12-14T07:28:28.161517Z",
     "iopub.status.busy": "2022-12-14T07:28:28.160634Z",
     "iopub.status.idle": "2022-12-14T07:28:28.175301Z",
     "shell.execute_reply": "2022-12-14T07:28:28.174213Z"
    },
    "papermill": {
     "duration": 0.034372,
     "end_time": "2022-12-14T07:28:28.177538",
     "exception": false,
     "start_time": "2022-12-14T07:28:28.143166",
     "status": "completed"
    },
    "tags": []
   },
   "outputs": [
    {
     "data": {
      "text/plain": [
       "1.678250008006918"
      ]
     },
     "execution_count": 12,
     "metadata": {},
     "output_type": "execute_result"
    }
   ],
   "source": [
    "df[\"Abnormal\"].mean() * 100"
   ]
  },
  {
   "cell_type": "markdown",
   "id": "df2f9740",
   "metadata": {
    "papermill": {
     "duration": 0.01599,
     "end_time": "2022-12-14T07:28:28.209807",
     "exception": false,
     "start_time": "2022-12-14T07:28:28.193817",
     "status": "completed"
    },
    "tags": []
   },
   "source": [
    "## id3"
   ]
  },
  {
   "cell_type": "code",
   "execution_count": 13,
   "id": "8dffc933",
   "metadata": {
    "execution": {
     "iopub.execute_input": "2022-12-14T07:28:28.244024Z",
     "iopub.status.busy": "2022-12-14T07:28:28.243612Z",
     "iopub.status.idle": "2022-12-14T07:28:29.201183Z",
     "shell.execute_reply": "2022-12-14T07:28:29.200097Z"
    },
    "papermill": {
     "duration": 0.977455,
     "end_time": "2022-12-14T07:28:29.203580",
     "exception": false,
     "start_time": "2022-12-14T07:28:28.226125",
     "status": "completed"
    },
    "tags": []
   },
   "outputs": [
    {
     "data": {
      "text/html": [
       "<div>\n",
       "<style scoped>\n",
       "    .dataframe tbody tr th:only-of-type {\n",
       "        vertical-align: middle;\n",
       "    }\n",
       "\n",
       "    .dataframe tbody tr th {\n",
       "        vertical-align: top;\n",
       "    }\n",
       "\n",
       "    .dataframe thead th {\n",
       "        text-align: right;\n",
       "    }\n",
       "</style>\n",
       "<table border=\"1\" class=\"dataframe\">\n",
       "  <thead>\n",
       "    <tr style=\"text-align: right;\">\n",
       "      <th></th>\n",
       "      <th>Abnormal</th>\n",
       "      <th>Data Distribution</th>\n",
       "    </tr>\n",
       "    <tr>\n",
       "      <th>id3</th>\n",
       "      <th></th>\n",
       "      <th></th>\n",
       "    </tr>\n",
       "  </thead>\n",
       "  <tbody>\n",
       "    <tr>\n",
       "      <th>1</th>\n",
       "      <td>7.338116</td>\n",
       "      <td>22.87031</td>\n",
       "    </tr>\n",
       "    <tr>\n",
       "      <th>2</th>\n",
       "      <td>0.000000</td>\n",
       "      <td>59.25731</td>\n",
       "    </tr>\n",
       "    <tr>\n",
       "      <th>3</th>\n",
       "      <td>0.000000</td>\n",
       "      <td>17.87238</td>\n",
       "    </tr>\n",
       "  </tbody>\n",
       "</table>\n",
       "</div>"
      ],
      "text/plain": [
       "     Abnormal  Data Distribution\n",
       "id3                             \n",
       "1    7.338116           22.87031\n",
       "2    0.000000           59.25731\n",
       "3    0.000000           17.87238"
      ]
     },
     "execution_count": 13,
     "metadata": {},
     "output_type": "execute_result"
    }
   ],
   "source": [
    "col = \"id3\"\n",
    "analyse = df[[col, \"Abnormal\"]].groupby(col).mean() * 100\n",
    "analyse[\"Data Distribution\"] = df[[col, \"Abnormal\"]].groupby(col).count()/len(df) * 100\n",
    "analyse"
   ]
  },
  {
   "cell_type": "code",
   "execution_count": 14,
   "id": "8ae5abb2",
   "metadata": {
    "execution": {
     "iopub.execute_input": "2022-12-14T07:28:29.237770Z",
     "iopub.status.busy": "2022-12-14T07:28:29.237398Z",
     "iopub.status.idle": "2022-12-14T07:28:29.413712Z",
     "shell.execute_reply": "2022-12-14T07:28:29.412644Z"
    },
    "papermill": {
     "duration": 0.196272,
     "end_time": "2022-12-14T07:28:29.416351",
     "exception": false,
     "start_time": "2022-12-14T07:28:29.220079",
     "status": "completed"
    },
    "tags": []
   },
   "outputs": [
    {
     "data": {
      "text/plain": [
       "Text(0, 0.5, 'Data %age in each attribute value')"
      ]
     },
     "execution_count": 14,
     "metadata": {},
     "output_type": "execute_result"
    },
    {
     "data": {
      "image/png": "[encoded data removed]",
      "text/plain": [
       "<Figure size 432x288 with 1 Axes>"
      ]
     },
     "metadata": {
      "needs_background": "light"
     },
     "output_type": "display_data"
    }
   ],
   "source": [
    "ax = analyse[\"Data Distribution\"].plot(kind=\"bar\")\n",
    "ax.set_ylabel(\"Data %age in each attribute value\")"
   ]
  },
  {
   "cell_type": "code",
   "execution_count": 15,
   "id": "848a6d51",
   "metadata": {
    "execution": {
     "iopub.execute_input": "2022-12-14T07:28:29.451315Z",
     "iopub.status.busy": "2022-12-14T07:28:29.450890Z",
     "iopub.status.idle": "2022-12-14T07:28:29.589615Z",
     "shell.execute_reply": "2022-12-14T07:28:29.588364Z"
    },
    "papermill": {
     "duration": 0.159845,
     "end_time": "2022-12-14T07:28:29.592856",
     "exception": false,
     "start_time": "2022-12-14T07:28:29.433011",
     "status": "completed"
    },
    "tags": []
   },
   "outputs": [
    {
     "data": {
      "text/plain": [
       "Text(0, 0.5, 'Percentage of Abnormal Failures')"
      ]
     },
     "execution_count": 15,
     "metadata": {},
     "output_type": "execute_result"
    },
    {
     "data": {
      "image/png": "[encoded data removed]",
      "text/plain": [
       "<Figure size 432x288 with 1 Axes>"
      ]
     },
     "metadata": {
      "needs_background": "light"
     },
     "output_type": "display_data"
    }
   ],
   "source": [
    "ax = analyse[\"Abnormal\"].plot(kind=\"bar\")\n",
    "ax.set_ylabel(\"Percentage of Abnormal Failures\")"
   ]
  },
  {
   "cell_type": "markdown",
   "id": "7edc5ddc",
   "metadata": {
    "papermill": {
     "duration": 0.016678,
     "end_time": "2022-12-14T07:28:29.627393",
     "exception": false,
     "start_time": "2022-12-14T07:28:29.610715",
     "status": "completed"
    },
    "tags": []
   },
   "source": [
    "## id4"
   ]
  },
  {
   "cell_type": "code",
   "execution_count": 16,
   "id": "25bb7443",
   "metadata": {
    "execution": {
     "iopub.execute_input": "2022-12-14T07:28:29.663615Z",
     "iopub.status.busy": "2022-12-14T07:28:29.662496Z",
     "iopub.status.idle": "2022-12-14T07:28:30.622590Z",
     "shell.execute_reply": "2022-12-14T07:28:30.621368Z"
    },
    "papermill": {
     "duration": 0.980694,
     "end_time": "2022-12-14T07:28:30.625054",
     "exception": false,
     "start_time": "2022-12-14T07:28:29.644360",
     "status": "completed"
    },
    "tags": []
   },
   "outputs": [
    {
     "data": {
      "text/html": [
       "<div>\n",
       "<style scoped>\n",
       "    .dataframe tbody tr th:only-of-type {\n",
       "        vertical-align: middle;\n",
       "    }\n",
       "\n",
       "    .dataframe tbody tr th {\n",
       "        vertical-align: top;\n",
       "    }\n",
       "\n",
       "    .dataframe thead th {\n",
       "        text-align: right;\n",
       "    }\n",
       "</style>\n",
       "<table border=\"1\" class=\"dataframe\">\n",
       "  <thead>\n",
       "    <tr style=\"text-align: right;\">\n",
       "      <th></th>\n",
       "      <th>Abnormal</th>\n",
       "      <th>Data Distribution</th>\n",
       "    </tr>\n",
       "    <tr>\n",
       "      <th>id4</th>\n",
       "      <th></th>\n",
       "      <th></th>\n",
       "    </tr>\n",
       "  </thead>\n",
       "  <tbody>\n",
       "    <tr>\n",
       "      <th>0</th>\n",
       "      <td>0.000000</td>\n",
       "      <td>21.727235</td>\n",
       "    </tr>\n",
       "    <tr>\n",
       "      <th>1</th>\n",
       "      <td>0.000000</td>\n",
       "      <td>24.606331</td>\n",
       "    </tr>\n",
       "    <tr>\n",
       "      <th>2</th>\n",
       "      <td>0.000000</td>\n",
       "      <td>12.001756</td>\n",
       "    </tr>\n",
       "    <tr>\n",
       "      <th>3</th>\n",
       "      <td>0.000000</td>\n",
       "      <td>5.974654</td>\n",
       "    </tr>\n",
       "    <tr>\n",
       "      <th>4</th>\n",
       "      <td>0.000000</td>\n",
       "      <td>1.145724</td>\n",
       "    </tr>\n",
       "    <tr>\n",
       "      <th>5</th>\n",
       "      <td>0.000000</td>\n",
       "      <td>5.096108</td>\n",
       "    </tr>\n",
       "    <tr>\n",
       "      <th>6</th>\n",
       "      <td>0.000000</td>\n",
       "      <td>0.672075</td>\n",
       "    </tr>\n",
       "    <tr>\n",
       "      <th>7</th>\n",
       "      <td>1.034812</td>\n",
       "      <td>6.071363</td>\n",
       "    </tr>\n",
       "    <tr>\n",
       "      <th>8</th>\n",
       "      <td>11.030413</td>\n",
       "      <td>14.645171</td>\n",
       "    </tr>\n",
       "    <tr>\n",
       "      <th>9</th>\n",
       "      <td>0.000000</td>\n",
       "      <td>8.059583</td>\n",
       "    </tr>\n",
       "  </tbody>\n",
       "</table>\n",
       "</div>"
      ],
      "text/plain": [
       "      Abnormal  Data Distribution\n",
       "id4                              \n",
       "0     0.000000          21.727235\n",
       "1     0.000000          24.606331\n",
       "2     0.000000          12.001756\n",
       "3     0.000000           5.974654\n",
       "4     0.000000           1.145724\n",
       "5     0.000000           5.096108\n",
       "6     0.000000           0.672075\n",
       "7     1.034812           6.071363\n",
       "8    11.030413          14.645171\n",
       "9     0.000000           8.059583"
      ]
     },
     "execution_count": 16,
     "metadata": {},
     "output_type": "execute_result"
    }
   ],
   "source": [
    "col = \"id4\"\n",
    "analyse = df[[col, \"Abnormal\"]].groupby(col).mean() * 100\n",
    "analyse[\"Data Distribution\"] = df[[col, \"Abnormal\"]].groupby(col).count()/len(df) * 100\n",
    "analyse"
   ]
  },
  {
   "cell_type": "code",
   "execution_count": 17,
   "id": "55d17a20",
   "metadata": {
    "execution": {
     "iopub.execute_input": "2022-12-14T07:28:30.661499Z",
     "iopub.status.busy": "2022-12-14T07:28:30.661085Z",
     "iopub.status.idle": "2022-12-14T07:28:30.832852Z",
     "shell.execute_reply": "2022-12-14T07:28:30.831614Z"
    },
    "papermill": {
     "duration": 0.192531,
     "end_time": "2022-12-14T07:28:30.835321",
     "exception": false,
     "start_time": "2022-12-14T07:28:30.642790",
     "status": "completed"
    },
    "tags": []
   },
   "outputs": [
    {
     "data": {
      "text/plain": [
       "Text(0, 0.5, 'Data %age in each attribute value')"
      ]
     },
     "execution_count": 17,
     "metadata": {},
     "output_type": "execute_result"
    },
    {
     "data": {
      "image/png": "[encoded data removed]",
      "text/plain": [
       "<Figure size 432x288 with 1 Axes>"
      ]
     },
     "metadata": {
      "needs_background": "light"
     },
     "output_type": "display_data"
    }
   ],
   "source": [
    "ax = analyse[\"Data Distribution\"].plot(kind=\"bar\")\n",
    "ax.set_ylabel(\"Data %age in each attribute value\")"
   ]
  },
  {
   "cell_type": "code",
   "execution_count": 18,
   "id": "e046ded3",
   "metadata": {
    "execution": {
     "iopub.execute_input": "2022-12-14T07:28:30.872297Z",
     "iopub.status.busy": "2022-12-14T07:28:30.871875Z",
     "iopub.status.idle": "2022-12-14T07:28:31.042383Z",
     "shell.execute_reply": "2022-12-14T07:28:31.041144Z"
    },
    "papermill": {
     "duration": 0.192007,
     "end_time": "2022-12-14T07:28:31.045133",
     "exception": false,
     "start_time": "2022-12-14T07:28:30.853126",
     "status": "completed"
    },
    "tags": []
   },
   "outputs": [
    {
     "data": {
      "text/plain": [
       "Text(0, 0.5, 'Percentage of Abnormal Failures')"
      ]
     },
     "execution_count": 18,
     "metadata": {},
     "output_type": "execute_result"
    },
    {
     "data": {
      "image/png": "[encoded data removed]",
      "text/plain": [
       "<Figure size 432x288 with 1 Axes>"
      ]
     },
     "metadata": {
      "needs_background": "light"
     },
     "output_type": "display_data"
    }
   ],
   "source": [
    "ax = analyse[\"Abnormal\"].plot(kind=\"bar\")\n",
    "ax.set_ylabel(\"Percentage of Abnormal Failures\")"
   ]
  },
  {
   "cell_type": "markdown",
   "id": "506cae2e",
   "metadata": {
    "papermill": {
     "duration": 0.017547,
     "end_time": "2022-12-14T07:28:31.080706",
     "exception": false,
     "start_time": "2022-12-14T07:28:31.063159",
     "status": "completed"
    },
    "tags": []
   },
   "source": [
    "## id5"
   ]
  },
  {
   "cell_type": "code",
   "execution_count": 19,
   "id": "210e96bf",
   "metadata": {
    "execution": {
     "iopub.execute_input": "2022-12-14T07:28:31.117884Z",
     "iopub.status.busy": "2022-12-14T07:28:31.117467Z",
     "iopub.status.idle": "2022-12-14T07:28:32.081422Z",
     "shell.execute_reply": "2022-12-14T07:28:32.080520Z"
    },
    "papermill": {
     "duration": 0.985171,
     "end_time": "2022-12-14T07:28:32.083637",
     "exception": false,
     "start_time": "2022-12-14T07:28:31.098466",
     "status": "completed"
    },
    "tags": []
   },
   "outputs": [
    {
     "data": {
      "text/html": [
       "<div>\n",
       "<style scoped>\n",
       "    .dataframe tbody tr th:only-of-type {\n",
       "        vertical-align: middle;\n",
       "    }\n",
       "\n",
       "    .dataframe tbody tr th {\n",
       "        vertical-align: top;\n",
       "    }\n",
       "\n",
       "    .dataframe thead th {\n",
       "        text-align: right;\n",
       "    }\n",
       "</style>\n",
       "<table border=\"1\" class=\"dataframe\">\n",
       "  <thead>\n",
       "    <tr style=\"text-align: right;\">\n",
       "      <th></th>\n",
       "      <th>Abnormal</th>\n",
       "      <th>Data Distribution</th>\n",
       "    </tr>\n",
       "    <tr>\n",
       "      <th>id5</th>\n",
       "      <th></th>\n",
       "      <th></th>\n",
       "    </tr>\n",
       "  </thead>\n",
       "  <tbody>\n",
       "    <tr>\n",
       "      <th>0</th>\n",
       "      <td>0.000209</td>\n",
       "      <td>11.540413</td>\n",
       "    </tr>\n",
       "    <tr>\n",
       "      <th>1</th>\n",
       "      <td>0.001541</td>\n",
       "      <td>14.062604</td>\n",
       "    </tr>\n",
       "    <tr>\n",
       "      <th>2</th>\n",
       "      <td>0.030475</td>\n",
       "      <td>11.852623</td>\n",
       "    </tr>\n",
       "    <tr>\n",
       "      <th>3</th>\n",
       "      <td>0.002217</td>\n",
       "      <td>6.518161</td>\n",
       "    </tr>\n",
       "    <tr>\n",
       "      <th>4</th>\n",
       "      <td>0.000000</td>\n",
       "      <td>11.183509</td>\n",
       "    </tr>\n",
       "    <tr>\n",
       "      <th>5</th>\n",
       "      <td>17.308702</td>\n",
       "      <td>9.309914</td>\n",
       "    </tr>\n",
       "    <tr>\n",
       "      <th>6</th>\n",
       "      <td>0.000000</td>\n",
       "      <td>2.816605</td>\n",
       "    </tr>\n",
       "    <tr>\n",
       "      <th>7</th>\n",
       "      <td>0.000000</td>\n",
       "      <td>13.335359</td>\n",
       "    </tr>\n",
       "    <tr>\n",
       "      <th>8</th>\n",
       "      <td>1.214929</td>\n",
       "      <td>4.043457</td>\n",
       "    </tr>\n",
       "    <tr>\n",
       "      <th>9</th>\n",
       "      <td>0.089338</td>\n",
       "      <td>15.337354</td>\n",
       "    </tr>\n",
       "  </tbody>\n",
       "</table>\n",
       "</div>"
      ],
      "text/plain": [
       "      Abnormal  Data Distribution\n",
       "id5                              \n",
       "0     0.000209          11.540413\n",
       "1     0.001541          14.062604\n",
       "2     0.030475          11.852623\n",
       "3     0.002217           6.518161\n",
       "4     0.000000          11.183509\n",
       "5    17.308702           9.309914\n",
       "6     0.000000           2.816605\n",
       "7     0.000000          13.335359\n",
       "8     1.214929           4.043457\n",
       "9     0.089338          15.337354"
      ]
     },
     "execution_count": 19,
     "metadata": {},
     "output_type": "execute_result"
    }
   ],
   "source": [
    "col = \"id5\"\n",
    "analyse = df[[col, \"Abnormal\"]].groupby(col).mean() * 100\n",
    "analyse[\"Data Distribution\"] = df[[col, \"Abnormal\"]].groupby(col).count()/len(df) * 100\n",
    "analyse"
   ]
  },
  {
   "cell_type": "code",
   "execution_count": 20,
   "id": "7b63129f",
   "metadata": {
    "execution": {
     "iopub.execute_input": "2022-12-14T07:28:32.122918Z",
     "iopub.status.busy": "2022-12-14T07:28:32.121655Z",
     "iopub.status.idle": "2022-12-14T07:28:32.344949Z",
     "shell.execute_reply": "2022-12-14T07:28:32.343734Z"
    },
    "papermill": {
     "duration": 0.245376,
     "end_time": "2022-12-14T07:28:32.347440",
     "exception": false,
     "start_time": "2022-12-14T07:28:32.102064",
     "status": "completed"
    },
    "tags": []
   },
   "outputs": [
    {
     "data": {
      "text/plain": [
       "Text(0, 0.5, 'Data %age in each attribute value')"
      ]
     },
     "execution_count": 20,
     "metadata": {},
     "output_type": "execute_result"
    },
    {
     "data": {
      "image/png": "[encoded data removed]",
      "text/plain": [
       "<Figure size 432x288 with 1 Axes>"
      ]
     },
     "metadata": {
      "needs_background": "light"
     },
     "output_type": "display_data"
    }
   ],
   "source": [
    "ax = analyse[\"Data Distribution\"].plot(kind=\"bar\")\n",
    "ax.set_ylabel(\"Data %age in each attribute value\")"
   ]
  },
  {
   "cell_type": "code",
   "execution_count": 21,
   "id": "162a8635",
   "metadata": {
    "execution": {
     "iopub.execute_input": "2022-12-14T07:28:32.386151Z",
     "iopub.status.busy": "2022-12-14T07:28:32.385767Z",
     "iopub.status.idle": "2022-12-14T07:28:32.578507Z",
     "shell.execute_reply": "2022-12-14T07:28:32.577200Z"
    },
    "papermill": {
     "duration": 0.215169,
     "end_time": "2022-12-14T07:28:32.581093",
     "exception": false,
     "start_time": "2022-12-14T07:28:32.365924",
     "status": "completed"
    },
    "tags": []
   },
   "outputs": [
    {
     "data": {
      "text/plain": [
       "Text(0, 0.5, 'Percentage of Abnormal Failures')"
      ]
     },
     "execution_count": 21,
     "metadata": {},
     "output_type": "execute_result"
    },
    {
     "data": {
      "image/png": "[encoded data removed]",
      "text/plain": [
       "<Figure size 432x288 with 1 Axes>"
      ]
     },
     "metadata": {
      "needs_background": "light"
     },
     "output_type": "display_data"
    }
   ],
   "source": [
    "ax = analyse[\"Abnormal\"].plot(kind=\"bar\")\n",
    "ax.set_ylabel(\"Percentage of Abnormal Failures\")"
   ]
  },
  {
   "cell_type": "markdown",
   "id": "092336ed",
   "metadata": {
    "papermill": {
     "duration": 0.0194,
     "end_time": "2022-12-14T07:28:32.619557",
     "exception": false,
     "start_time": "2022-12-14T07:28:32.600157",
     "status": "completed"
    },
    "tags": []
   },
   "source": [
    "## id6"
   ]
  },
  {
   "cell_type": "code",
   "execution_count": 22,
   "id": "7f8d9dec",
   "metadata": {
    "execution": {
     "iopub.execute_input": "2022-12-14T07:28:32.659379Z",
     "iopub.status.busy": "2022-12-14T07:28:32.658961Z",
     "iopub.status.idle": "2022-12-14T07:28:33.628601Z",
     "shell.execute_reply": "2022-12-14T07:28:33.627243Z"
    },
    "papermill": {
     "duration": 0.992513,
     "end_time": "2022-12-14T07:28:33.631319",
     "exception": false,
     "start_time": "2022-12-14T07:28:32.638806",
     "status": "completed"
    },
    "tags": []
   },
   "outputs": [
    {
     "data": {
      "text/html": [
       "<div>\n",
       "<style scoped>\n",
       "    .dataframe tbody tr th:only-of-type {\n",
       "        vertical-align: middle;\n",
       "    }\n",
       "\n",
       "    .dataframe tbody tr th {\n",
       "        vertical-align: top;\n",
       "    }\n",
       "\n",
       "    .dataframe thead th {\n",
       "        text-align: right;\n",
       "    }\n",
       "</style>\n",
       "<table border=\"1\" class=\"dataframe\">\n",
       "  <thead>\n",
       "    <tr style=\"text-align: right;\">\n",
       "      <th></th>\n",
       "      <th>Abnormal</th>\n",
       "      <th>Data Distribution</th>\n",
       "    </tr>\n",
       "    <tr>\n",
       "      <th>id6</th>\n",
       "      <th></th>\n",
       "      <th></th>\n",
       "    </tr>\n",
       "  </thead>\n",
       "  <tbody>\n",
       "    <tr>\n",
       "      <th>0</th>\n",
       "      <td>0.000000</td>\n",
       "      <td>8.399654</td>\n",
       "    </tr>\n",
       "    <tr>\n",
       "      <th>1</th>\n",
       "      <td>0.001120</td>\n",
       "      <td>8.603644</td>\n",
       "    </tr>\n",
       "    <tr>\n",
       "      <th>2</th>\n",
       "      <td>0.000000</td>\n",
       "      <td>7.301057</td>\n",
       "    </tr>\n",
       "    <tr>\n",
       "      <th>3</th>\n",
       "      <td>8.325159</td>\n",
       "      <td>9.083481</td>\n",
       "    </tr>\n",
       "    <tr>\n",
       "      <th>4</th>\n",
       "      <td>6.886917</td>\n",
       "      <td>12.419657</td>\n",
       "    </tr>\n",
       "    <tr>\n",
       "      <th>5</th>\n",
       "      <td>0.075551</td>\n",
       "      <td>8.892736</td>\n",
       "    </tr>\n",
       "    <tr>\n",
       "      <th>6</th>\n",
       "      <td>0.166777</td>\n",
       "      <td>14.785539</td>\n",
       "    </tr>\n",
       "    <tr>\n",
       "      <th>7</th>\n",
       "      <td>0.008102</td>\n",
       "      <td>13.672926</td>\n",
       "    </tr>\n",
       "    <tr>\n",
       "      <th>8</th>\n",
       "      <td>0.385763</td>\n",
       "      <td>8.833039</td>\n",
       "    </tr>\n",
       "    <tr>\n",
       "      <th>9</th>\n",
       "      <td>0.000601</td>\n",
       "      <td>8.008267</td>\n",
       "    </tr>\n",
       "  </tbody>\n",
       "</table>\n",
       "</div>"
      ],
      "text/plain": [
       "     Abnormal  Data Distribution\n",
       "id6                             \n",
       "0    0.000000           8.399654\n",
       "1    0.001120           8.603644\n",
       "2    0.000000           7.301057\n",
       "3    8.325159           9.083481\n",
       "4    6.886917          12.419657\n",
       "5    0.075551           8.892736\n",
       "6    0.166777          14.785539\n",
       "7    0.008102          13.672926\n",
       "8    0.385763           8.833039\n",
       "9    0.000601           8.008267"
      ]
     },
     "execution_count": 22,
     "metadata": {},
     "output_type": "execute_result"
    }
   ],
   "source": [
    "col = \"id6\"\n",
    "analyse = df[[col, \"Abnormal\"]].groupby(col).mean() * 100\n",
    "analyse[\"Data Distribution\"] = df[[col, \"Abnormal\"]].groupby(col).count()/len(df) * 100\n",
    "analyse"
   ]
  },
  {
   "cell_type": "code",
   "execution_count": 23,
   "id": "f56fa515",
   "metadata": {
    "execution": {
     "iopub.execute_input": "2022-12-14T07:28:33.672628Z",
     "iopub.status.busy": "2022-12-14T07:28:33.671350Z",
     "iopub.status.idle": "2022-12-14T07:28:33.855270Z",
     "shell.execute_reply": "2022-12-14T07:28:33.854224Z"
    },
    "papermill": {
     "duration": 0.207088,
     "end_time": "2022-12-14T07:28:33.857634",
     "exception": false,
     "start_time": "2022-12-14T07:28:33.650546",
     "status": "completed"
    },
    "tags": []
   },
   "outputs": [
    {
     "data": {
      "text/plain": [
       "Text(0, 0.5, 'Data %age in each attribute value')"
      ]
     },
     "execution_count": 23,
     "metadata": {},
     "output_type": "execute_result"
    },
    {
     "data": {
      "image/png": "[encoded data removed]",
      "text/plain": [
       "<Figure size 432x288 with 1 Axes>"
      ]
     },
     "metadata": {
      "needs_background": "light"
     },
     "output_type": "display_data"
    }
   ],
   "source": [
    "ax = analyse[\"Data Distribution\"].plot(kind=\"bar\")\n",
    "ax.set_ylabel(\"Data %age in each attribute value\")"
   ]
  },
  {
   "cell_type": "code",
   "execution_count": 24,
   "id": "05861e4e",
   "metadata": {
    "execution": {
     "iopub.execute_input": "2022-12-14T07:28:33.898026Z",
     "iopub.status.busy": "2022-12-14T07:28:33.897129Z",
     "iopub.status.idle": "2022-12-14T07:28:34.084889Z",
     "shell.execute_reply": "2022-12-14T07:28:34.083665Z"
    },
    "papermill": {
     "duration": 0.210715,
     "end_time": "2022-12-14T07:28:34.087516",
     "exception": false,
     "start_time": "2022-12-14T07:28:33.876801",
     "status": "completed"
    },
    "tags": []
   },
   "outputs": [
    {
     "data": {
      "text/plain": [
       "Text(0, 0.5, 'Percentage of Abnormal Failures')"
      ]
     },
     "execution_count": 24,
     "metadata": {},
     "output_type": "execute_result"
    },
    {
     "data": {
      "image/png": "[encoded data removed]",
      "text/plain": [
       "<Figure size 432x288 with 1 Axes>"
      ]
     },
     "metadata": {
      "needs_background": "light"
     },
     "output_type": "display_data"
    }
   ],
   "source": [
    "ax = analyse[\"Abnormal\"].plot(kind=\"bar\")\n",
    "ax.set_ylabel(\"Percentage of Abnormal Failures\")"
   ]
  },
  {
   "cell_type": "markdown",
   "id": "d4176c5b",
   "metadata": {
    "papermill": {
     "duration": 0.019218,
     "end_time": "2022-12-14T07:28:34.126699",
     "exception": false,
     "start_time": "2022-12-14T07:28:34.107481",
     "status": "completed"
    },
    "tags": []
   },
   "source": [
    "## id7"
   ]
  },
  {
   "cell_type": "code",
   "execution_count": 25,
   "id": "9c906d9d",
   "metadata": {
    "execution": {
     "iopub.execute_input": "2022-12-14T07:28:34.167028Z",
     "iopub.status.busy": "2022-12-14T07:28:34.166651Z",
     "iopub.status.idle": "2022-12-14T07:28:35.129300Z",
     "shell.execute_reply": "2022-12-14T07:28:35.128364Z"
    },
    "papermill": {
     "duration": 0.985376,
     "end_time": "2022-12-14T07:28:35.131425",
     "exception": false,
     "start_time": "2022-12-14T07:28:34.146049",
     "status": "completed"
    },
    "tags": []
   },
   "outputs": [
    {
     "data": {
      "text/html": [
       "<div>\n",
       "<style scoped>\n",
       "    .dataframe tbody tr th:only-of-type {\n",
       "        vertical-align: middle;\n",
       "    }\n",
       "\n",
       "    .dataframe tbody tr th {\n",
       "        vertical-align: top;\n",
       "    }\n",
       "\n",
       "    .dataframe thead th {\n",
       "        text-align: right;\n",
       "    }\n",
       "</style>\n",
       "<table border=\"1\" class=\"dataframe\">\n",
       "  <thead>\n",
       "    <tr style=\"text-align: right;\">\n",
       "      <th></th>\n",
       "      <th>Abnormal</th>\n",
       "      <th>Data Distribution</th>\n",
       "    </tr>\n",
       "    <tr>\n",
       "      <th>id7</th>\n",
       "      <th></th>\n",
       "      <th></th>\n",
       "    </tr>\n",
       "  </thead>\n",
       "  <tbody>\n",
       "    <tr>\n",
       "      <th>0</th>\n",
       "      <td>1.566889</td>\n",
       "      <td>10.055702</td>\n",
       "    </tr>\n",
       "    <tr>\n",
       "      <th>1</th>\n",
       "      <td>1.673891</td>\n",
       "      <td>9.644519</td>\n",
       "    </tr>\n",
       "    <tr>\n",
       "      <th>2</th>\n",
       "      <td>1.549164</td>\n",
       "      <td>10.145885</td>\n",
       "    </tr>\n",
       "    <tr>\n",
       "      <th>3</th>\n",
       "      <td>1.425985</td>\n",
       "      <td>10.625457</td>\n",
       "    </tr>\n",
       "    <tr>\n",
       "      <th>4</th>\n",
       "      <td>1.833442</td>\n",
       "      <td>8.463734</td>\n",
       "    </tr>\n",
       "    <tr>\n",
       "      <th>5</th>\n",
       "      <td>2.027937</td>\n",
       "      <td>9.050827</td>\n",
       "    </tr>\n",
       "    <tr>\n",
       "      <th>6</th>\n",
       "      <td>1.684806</td>\n",
       "      <td>10.558247</td>\n",
       "    </tr>\n",
       "    <tr>\n",
       "      <th>7</th>\n",
       "      <td>1.734059</td>\n",
       "      <td>10.152820</td>\n",
       "    </tr>\n",
       "    <tr>\n",
       "      <th>8</th>\n",
       "      <td>1.508416</td>\n",
       "      <td>11.234151</td>\n",
       "    </tr>\n",
       "    <tr>\n",
       "      <th>9</th>\n",
       "      <td>1.871486</td>\n",
       "      <td>10.068657</td>\n",
       "    </tr>\n",
       "  </tbody>\n",
       "</table>\n",
       "</div>"
      ],
      "text/plain": [
       "     Abnormal  Data Distribution\n",
       "id7                             \n",
       "0    1.566889          10.055702\n",
       "1    1.673891           9.644519\n",
       "2    1.549164          10.145885\n",
       "3    1.425985          10.625457\n",
       "4    1.833442           8.463734\n",
       "5    2.027937           9.050827\n",
       "6    1.684806          10.558247\n",
       "7    1.734059          10.152820\n",
       "8    1.508416          11.234151\n",
       "9    1.871486          10.068657"
      ]
     },
     "execution_count": 25,
     "metadata": {},
     "output_type": "execute_result"
    }
   ],
   "source": [
    "col = \"id7\"\n",
    "analyse = df[[col, \"Abnormal\"]].groupby(col).mean() * 100\n",
    "analyse[\"Data Distribution\"] = df[[col, \"Abnormal\"]].groupby(col).count()/len(df) * 100\n",
    "analyse"
   ]
  },
  {
   "cell_type": "code",
   "execution_count": 26,
   "id": "0bb6ea1d",
   "metadata": {
    "execution": {
     "iopub.execute_input": "2022-12-14T07:28:35.173454Z",
     "iopub.status.busy": "2022-12-14T07:28:35.172993Z",
     "iopub.status.idle": "2022-12-14T07:28:35.358168Z",
     "shell.execute_reply": "2022-12-14T07:28:35.357046Z"
    },
    "papermill": {
     "duration": 0.20937,
     "end_time": "2022-12-14T07:28:35.360907",
     "exception": false,
     "start_time": "2022-12-14T07:28:35.151537",
     "status": "completed"
    },
    "tags": []
   },
   "outputs": [
    {
     "data": {
      "text/plain": [
       "Text(0, 0.5, 'Data %age in each attribute value')"
      ]
     },
     "execution_count": 26,
     "metadata": {},
     "output_type": "execute_result"
    },
    {
     "data": {
      "image/png": "[encoded data removed]",
      "text/plain": [
       "<Figure size 432x288 with 1 Axes>"
      ]
     },
     "metadata": {
      "needs_background": "light"
     },
     "output_type": "display_data"
    }
   ],
   "source": [
    "ax = analyse[\"Data Distribution\"].plot(kind=\"bar\")\n",
    "ax.set_ylabel(\"Data %age in each attribute value\")"
   ]
  },
  {
   "cell_type": "code",
   "execution_count": 27,
   "id": "b3130934",
   "metadata": {
    "execution": {
     "iopub.execute_input": "2022-12-14T07:28:35.404211Z",
     "iopub.status.busy": "2022-12-14T07:28:35.403073Z",
     "iopub.status.idle": "2022-12-14T07:28:35.598454Z",
     "shell.execute_reply": "2022-12-14T07:28:35.597118Z"
    },
    "papermill": {
     "duration": 0.219612,
     "end_time": "2022-12-14T07:28:35.601032",
     "exception": false,
     "start_time": "2022-12-14T07:28:35.381420",
     "status": "completed"
    },
    "tags": []
   },
   "outputs": [
    {
     "data": {
      "text/plain": [
       "Text(0, 0.5, 'Percentage of Abnormal Failures')"
      ]
     },
     "execution_count": 27,
     "metadata": {},
     "output_type": "execute_result"
    },
    {
     "data": {
      "image/png": "[encoded data removed]",
      "text/plain": [
       "<Figure size 432x288 with 1 Axes>"
      ]
     },
     "metadata": {
      "needs_background": "light"
     },
     "output_type": "display_data"
    }
   ],
   "source": [
    "ax = analyse[\"Abnormal\"].plot(kind=\"bar\")\n",
    "ax.set_ylabel(\"Percentage of Abnormal Failures\")"
   ]
  },
  {
   "cell_type": "markdown",
   "id": "d24c02c7",
   "metadata": {
    "papermill": {
     "duration": 0.020828,
     "end_time": "2022-12-14T07:28:35.643669",
     "exception": false,
     "start_time": "2022-12-14T07:28:35.622841",
     "status": "completed"
    },
    "tags": []
   },
   "source": [
    "## id8"
   ]
  },
  {
   "cell_type": "code",
   "execution_count": 28,
   "id": "482919c2",
   "metadata": {
    "execution": {
     "iopub.execute_input": "2022-12-14T07:28:35.687908Z",
     "iopub.status.busy": "2022-12-14T07:28:35.686464Z",
     "iopub.status.idle": "2022-12-14T07:28:36.654053Z",
     "shell.execute_reply": "2022-12-14T07:28:36.652865Z"
    },
    "papermill": {
     "duration": 0.992282,
     "end_time": "2022-12-14T07:28:36.656724",
     "exception": false,
     "start_time": "2022-12-14T07:28:35.664442",
     "status": "completed"
    },
    "tags": []
   },
   "outputs": [
    {
     "data": {
      "text/html": [
       "<div>\n",
       "<style scoped>\n",
       "    .dataframe tbody tr th:only-of-type {\n",
       "        vertical-align: middle;\n",
       "    }\n",
       "\n",
       "    .dataframe tbody tr th {\n",
       "        vertical-align: top;\n",
       "    }\n",
       "\n",
       "    .dataframe thead th {\n",
       "        text-align: right;\n",
       "    }\n",
       "</style>\n",
       "<table border=\"1\" class=\"dataframe\">\n",
       "  <thead>\n",
       "    <tr style=\"text-align: right;\">\n",
       "      <th></th>\n",
       "      <th>Abnormal</th>\n",
       "      <th>Data Distribution</th>\n",
       "    </tr>\n",
       "    <tr>\n",
       "      <th>id8</th>\n",
       "      <th></th>\n",
       "      <th></th>\n",
       "    </tr>\n",
       "  </thead>\n",
       "  <tbody>\n",
       "    <tr>\n",
       "      <th>0</th>\n",
       "      <td>1.616957</td>\n",
       "      <td>9.984109</td>\n",
       "    </tr>\n",
       "    <tr>\n",
       "      <th>1</th>\n",
       "      <td>1.700091</td>\n",
       "      <td>10.124790</td>\n",
       "    </tr>\n",
       "    <tr>\n",
       "      <th>2</th>\n",
       "      <td>1.515572</td>\n",
       "      <td>10.661530</td>\n",
       "    </tr>\n",
       "    <tr>\n",
       "      <th>3</th>\n",
       "      <td>1.519893</td>\n",
       "      <td>10.480706</td>\n",
       "    </tr>\n",
       "    <tr>\n",
       "      <th>4</th>\n",
       "      <td>1.642826</td>\n",
       "      <td>10.329671</td>\n",
       "    </tr>\n",
       "    <tr>\n",
       "      <th>5</th>\n",
       "      <td>1.693772</td>\n",
       "      <td>10.817984</td>\n",
       "    </tr>\n",
       "    <tr>\n",
       "      <th>6</th>\n",
       "      <td>1.691645</td>\n",
       "      <td>9.685650</td>\n",
       "    </tr>\n",
       "    <tr>\n",
       "      <th>7</th>\n",
       "      <td>1.706223</td>\n",
       "      <td>9.492809</td>\n",
       "    </tr>\n",
       "    <tr>\n",
       "      <th>8</th>\n",
       "      <td>1.901957</td>\n",
       "      <td>8.985616</td>\n",
       "    </tr>\n",
       "    <tr>\n",
       "      <th>9</th>\n",
       "      <td>1.845406</td>\n",
       "      <td>9.437134</td>\n",
       "    </tr>\n",
       "  </tbody>\n",
       "</table>\n",
       "</div>"
      ],
      "text/plain": [
       "     Abnormal  Data Distribution\n",
       "id8                             \n",
       "0    1.616957           9.984109\n",
       "1    1.700091          10.124790\n",
       "2    1.515572          10.661530\n",
       "3    1.519893          10.480706\n",
       "4    1.642826          10.329671\n",
       "5    1.693772          10.817984\n",
       "6    1.691645           9.685650\n",
       "7    1.706223           9.492809\n",
       "8    1.901957           8.985616\n",
       "9    1.845406           9.437134"
      ]
     },
     "execution_count": 28,
     "metadata": {},
     "output_type": "execute_result"
    }
   ],
   "source": [
    "col = \"id8\"\n",
    "analyse = df[[col, \"Abnormal\"]].groupby(col).mean() * 100\n",
    "analyse[\"Data Distribution\"] = df[[col, \"Abnormal\"]].groupby(col).count()/len(df) * 100\n",
    "analyse"
   ]
  },
  {
   "cell_type": "code",
   "execution_count": 29,
   "id": "108c9b55",
   "metadata": {
    "execution": {
     "iopub.execute_input": "2022-12-14T07:28:36.700824Z",
     "iopub.status.busy": "2022-12-14T07:28:36.700375Z",
     "iopub.status.idle": "2022-12-14T07:28:36.879722Z",
     "shell.execute_reply": "2022-12-14T07:28:36.878636Z"
    },
    "papermill": {
     "duration": 0.204125,
     "end_time": "2022-12-14T07:28:36.882247",
     "exception": false,
     "start_time": "2022-12-14T07:28:36.678122",
     "status": "completed"
    },
    "tags": []
   },
   "outputs": [
    {
     "data": {
      "text/plain": [
       "Text(0, 0.5, 'Data %age in each attribute value')"
      ]
     },
     "execution_count": 29,
     "metadata": {},
     "output_type": "execute_result"
    },
    {
     "data": {
      "image/png": "[encoded data removed]",
      "text/plain": [
       "<Figure size 432x288 with 1 Axes>"
      ]
     },
     "metadata": {
      "needs_background": "light"
     },
     "output_type": "display_data"
    }
   ],
   "source": [
    "ax = analyse[\"Data Distribution\"].plot(kind=\"bar\")\n",
    "ax.set_ylabel(\"Data %age in each attribute value\")"
   ]
  },
  {
   "cell_type": "code",
   "execution_count": 30,
   "id": "d6ee1495",
   "metadata": {
    "execution": {
     "iopub.execute_input": "2022-12-14T07:28:36.928818Z",
     "iopub.status.busy": "2022-12-14T07:28:36.928029Z",
     "iopub.status.idle": "2022-12-14T07:28:37.113153Z",
     "shell.execute_reply": "2022-12-14T07:28:37.112051Z"
    },
    "papermill": {
     "duration": 0.210832,
     "end_time": "2022-12-14T07:28:37.115487",
     "exception": false,
     "start_time": "2022-12-14T07:28:36.904655",
     "status": "completed"
    },
    "tags": []
   },
   "outputs": [
    {
     "data": {
      "text/plain": [
       "Text(0, 0.5, 'Percentage of Abnormal Failures')"
      ]
     },
     "execution_count": 30,
     "metadata": {},
     "output_type": "execute_result"
    },
    {
     "data": {
      "image/png": "[encoded data removed]",
      "text/plain": [
       "<Figure size 432x288 with 1 Axes>"
      ]
     },
     "metadata": {
      "needs_background": "light"
     },
     "output_type": "display_data"
    }
   ],
   "source": [
    "ax = analyse[\"Abnormal\"].plot(kind=\"bar\")\n",
    "ax.set_ylabel(\"Percentage of Abnormal Failures\")"
   ]
  },
  {
   "cell_type": "markdown",
   "id": "c4f9d97d",
   "metadata": {
    "papermill": {
     "duration": 0.021122,
     "end_time": "2022-12-14T07:28:37.158189",
     "exception": false,
     "start_time": "2022-12-14T07:28:37.137067",
     "status": "completed"
    },
    "tags": []
   },
   "source": [
    "## id9"
   ]
  },
  {
   "cell_type": "code",
   "execution_count": 31,
   "id": "cba9ac7b",
   "metadata": {
    "execution": {
     "iopub.execute_input": "2022-12-14T07:28:37.202584Z",
     "iopub.status.busy": "2022-12-14T07:28:37.202161Z",
     "iopub.status.idle": "2022-12-14T07:28:38.166887Z",
     "shell.execute_reply": "2022-12-14T07:28:38.165588Z"
    },
    "papermill": {
     "duration": 0.990231,
     "end_time": "2022-12-14T07:28:38.169651",
     "exception": false,
     "start_time": "2022-12-14T07:28:37.179420",
     "status": "completed"
    },
    "tags": []
   },
   "outputs": [
    {
     "data": {
      "text/html": [
       "<div>\n",
       "<style scoped>\n",
       "    .dataframe tbody tr th:only-of-type {\n",
       "        vertical-align: middle;\n",
       "    }\n",
       "\n",
       "    .dataframe tbody tr th {\n",
       "        vertical-align: top;\n",
       "    }\n",
       "\n",
       "    .dataframe thead th {\n",
       "        text-align: right;\n",
       "    }\n",
       "</style>\n",
       "<table border=\"1\" class=\"dataframe\">\n",
       "  <thead>\n",
       "    <tr style=\"text-align: right;\">\n",
       "      <th></th>\n",
       "      <th>Abnormal</th>\n",
       "      <th>Data Distribution</th>\n",
       "    </tr>\n",
       "    <tr>\n",
       "      <th>id9</th>\n",
       "      <th></th>\n",
       "      <th></th>\n",
       "    </tr>\n",
       "  </thead>\n",
       "  <tbody>\n",
       "    <tr>\n",
       "      <th>0</th>\n",
       "      <td>1.629122</td>\n",
       "      <td>9.967204</td>\n",
       "    </tr>\n",
       "    <tr>\n",
       "      <th>1</th>\n",
       "      <td>1.722339</td>\n",
       "      <td>10.017774</td>\n",
       "    </tr>\n",
       "    <tr>\n",
       "      <th>2</th>\n",
       "      <td>1.758735</td>\n",
       "      <td>10.044600</td>\n",
       "    </tr>\n",
       "    <tr>\n",
       "      <th>3</th>\n",
       "      <td>1.634241</td>\n",
       "      <td>10.056809</td>\n",
       "    </tr>\n",
       "    <tr>\n",
       "      <th>4</th>\n",
       "      <td>1.611917</td>\n",
       "      <td>10.000388</td>\n",
       "    </tr>\n",
       "    <tr>\n",
       "      <th>5</th>\n",
       "      <td>1.614129</td>\n",
       "      <td>9.983700</td>\n",
       "    </tr>\n",
       "    <tr>\n",
       "      <th>6</th>\n",
       "      <td>1.662481</td>\n",
       "      <td>10.029381</td>\n",
       "    </tr>\n",
       "    <tr>\n",
       "      <th>7</th>\n",
       "      <td>1.768078</td>\n",
       "      <td>9.879838</td>\n",
       "    </tr>\n",
       "    <tr>\n",
       "      <th>8</th>\n",
       "      <td>1.752482</td>\n",
       "      <td>9.985626</td>\n",
       "    </tr>\n",
       "    <tr>\n",
       "      <th>9</th>\n",
       "      <td>1.629926</td>\n",
       "      <td>10.034679</td>\n",
       "    </tr>\n",
       "  </tbody>\n",
       "</table>\n",
       "</div>"
      ],
      "text/plain": [
       "     Abnormal  Data Distribution\n",
       "id9                             \n",
       "0    1.629122           9.967204\n",
       "1    1.722339          10.017774\n",
       "2    1.758735          10.044600\n",
       "3    1.634241          10.056809\n",
       "4    1.611917          10.000388\n",
       "5    1.614129           9.983700\n",
       "6    1.662481          10.029381\n",
       "7    1.768078           9.879838\n",
       "8    1.752482           9.985626\n",
       "9    1.629926          10.034679"
      ]
     },
     "execution_count": 31,
     "metadata": {},
     "output_type": "execute_result"
    }
   ],
   "source": [
    "col = \"id9\"\n",
    "analyse = df[[col, \"Abnormal\"]].groupby(col).mean() * 100\n",
    "analyse[\"Data Distribution\"] = df[[col, \"Abnormal\"]].groupby(col).count()/len(df) * 100\n",
    "analyse"
   ]
  },
  {
   "cell_type": "code",
   "execution_count": 32,
   "id": "c3d1a361",
   "metadata": {
    "execution": {
     "iopub.execute_input": "2022-12-14T07:28:38.215846Z",
     "iopub.status.busy": "2022-12-14T07:28:38.215377Z",
     "iopub.status.idle": "2022-12-14T07:28:38.393628Z",
     "shell.execute_reply": "2022-12-14T07:28:38.392537Z"
    },
    "papermill": {
     "duration": 0.204811,
     "end_time": "2022-12-14T07:28:38.396800",
     "exception": false,
     "start_time": "2022-12-14T07:28:38.191989",
     "status": "completed"
    },
    "tags": []
   },
   "outputs": [
    {
     "data": {
      "text/plain": [
       "Text(0, 0.5, 'Data %age in each attribute value')"
      ]
     },
     "execution_count": 32,
     "metadata": {},
     "output_type": "execute_result"
    },
    {
     "data": {
      "image/png": "[encoded data removed]",
      "text/plain": [
       "<Figure size 432x288 with 1 Axes>"
      ]
     },
     "metadata": {
      "needs_background": "light"
     },
     "output_type": "display_data"
    }
   ],
   "source": [
    "ax = analyse[\"Data Distribution\"].plot(kind=\"bar\")\n",
    "ax.set_ylabel(\"Data %age in each attribute value\")"
   ]
  },
  {
   "cell_type": "code",
   "execution_count": 33,
   "id": "dc48127e",
   "metadata": {
    "execution": {
     "iopub.execute_input": "2022-12-14T07:28:38.448514Z",
     "iopub.status.busy": "2022-12-14T07:28:38.448095Z",
     "iopub.status.idle": "2022-12-14T07:28:38.679497Z",
     "shell.execute_reply": "2022-12-14T07:28:38.678268Z"
    },
    "papermill": {
     "duration": 0.261795,
     "end_time": "2022-12-14T07:28:38.682561",
     "exception": false,
     "start_time": "2022-12-14T07:28:38.420766",
     "status": "completed"
    },
    "tags": []
   },
   "outputs": [
    {
     "data": {
      "text/plain": [
       "Text(0, 0.5, 'Percentage of Abnormal Failures')"
      ]
     },
     "execution_count": 33,
     "metadata": {},
     "output_type": "execute_result"
    },
    {
     "data": {
      "image/png": "[encoded data removed]",
      "text/plain": [
       "<Figure size 432x288 with 1 Axes>"
      ]
     },
     "metadata": {
      "needs_background": "light"
     },
     "output_type": "display_data"
    }
   ],
   "source": [
    "ax = analyse[\"Abnormal\"].plot(kind=\"bar\")\n",
    "ax.set_ylabel(\"Percentage of Abnormal Failures\")"
   ]
  },
  {
   "cell_type": "markdown",
   "id": "9a8f55d0",
   "metadata": {
    "papermill": {
     "duration": 0.023316,
     "end_time": "2022-12-14T07:28:38.729207",
     "exception": false,
     "start_time": "2022-12-14T07:28:38.705891",
     "status": "completed"
    },
    "tags": []
   },
   "source": [
    "## id10"
   ]
  },
  {
   "cell_type": "code",
   "execution_count": 34,
   "id": "2abc9211",
   "metadata": {
    "execution": {
     "iopub.execute_input": "2022-12-14T07:28:38.776984Z",
     "iopub.status.busy": "2022-12-14T07:28:38.776320Z",
     "iopub.status.idle": "2022-12-14T07:28:39.750130Z",
     "shell.execute_reply": "2022-12-14T07:28:39.748804Z"
    },
    "papermill": {
     "duration": 1.000918,
     "end_time": "2022-12-14T07:28:39.753410",
     "exception": false,
     "start_time": "2022-12-14T07:28:38.752492",
     "status": "completed"
    },
    "tags": []
   },
   "outputs": [
    {
     "data": {
      "text/html": [
       "<div>\n",
       "<style scoped>\n",
       "    .dataframe tbody tr th:only-of-type {\n",
       "        vertical-align: middle;\n",
       "    }\n",
       "\n",
       "    .dataframe tbody tr th {\n",
       "        vertical-align: top;\n",
       "    }\n",
       "\n",
       "    .dataframe thead th {\n",
       "        text-align: right;\n",
       "    }\n",
       "</style>\n",
       "<table border=\"1\" class=\"dataframe\">\n",
       "  <thead>\n",
       "    <tr style=\"text-align: right;\">\n",
       "      <th></th>\n",
       "      <th>Abnormal</th>\n",
       "      <th>Data Distribution</th>\n",
       "    </tr>\n",
       "    <tr>\n",
       "      <th>id10</th>\n",
       "      <th></th>\n",
       "      <th></th>\n",
       "    </tr>\n",
       "  </thead>\n",
       "  <tbody>\n",
       "    <tr>\n",
       "      <th>0</th>\n",
       "      <td>1.685113</td>\n",
       "      <td>10.001857</td>\n",
       "    </tr>\n",
       "    <tr>\n",
       "      <th>1</th>\n",
       "      <td>1.672486</td>\n",
       "      <td>9.999617</td>\n",
       "    </tr>\n",
       "    <tr>\n",
       "      <th>2</th>\n",
       "      <td>1.680152</td>\n",
       "      <td>9.958294</td>\n",
       "    </tr>\n",
       "    <tr>\n",
       "      <th>3</th>\n",
       "      <td>1.689047</td>\n",
       "      <td>9.994247</td>\n",
       "    </tr>\n",
       "    <tr>\n",
       "      <th>4</th>\n",
       "      <td>1.674643</td>\n",
       "      <td>9.982423</td>\n",
       "    </tr>\n",
       "    <tr>\n",
       "      <th>5</th>\n",
       "      <td>1.672450</td>\n",
       "      <td>10.028635</td>\n",
       "    </tr>\n",
       "    <tr>\n",
       "      <th>6</th>\n",
       "      <td>1.674168</td>\n",
       "      <td>10.015462</td>\n",
       "    </tr>\n",
       "    <tr>\n",
       "      <th>7</th>\n",
       "      <td>1.679667</td>\n",
       "      <td>10.002748</td>\n",
       "    </tr>\n",
       "    <tr>\n",
       "      <th>8</th>\n",
       "      <td>1.684210</td>\n",
       "      <td>10.011513</td>\n",
       "    </tr>\n",
       "    <tr>\n",
       "      <th>9</th>\n",
       "      <td>1.670590</td>\n",
       "      <td>10.005204</td>\n",
       "    </tr>\n",
       "  </tbody>\n",
       "</table>\n",
       "</div>"
      ],
      "text/plain": [
       "      Abnormal  Data Distribution\n",
       "id10                             \n",
       "0     1.685113          10.001857\n",
       "1     1.672486           9.999617\n",
       "2     1.680152           9.958294\n",
       "3     1.689047           9.994247\n",
       "4     1.674643           9.982423\n",
       "5     1.672450          10.028635\n",
       "6     1.674168          10.015462\n",
       "7     1.679667          10.002748\n",
       "8     1.684210          10.011513\n",
       "9     1.670590          10.005204"
      ]
     },
     "execution_count": 34,
     "metadata": {},
     "output_type": "execute_result"
    }
   ],
   "source": [
    "col = \"id10\"\n",
    "analyse = df[[col, \"Abnormal\"]].groupby(col).mean() * 100\n",
    "analyse[\"Data Distribution\"] = df[[col, \"Abnormal\"]].groupby(col).count()/len(df) * 100\n",
    "analyse"
   ]
  },
  {
   "cell_type": "code",
   "execution_count": 35,
   "id": "3063cf9a",
   "metadata": {
    "execution": {
     "iopub.execute_input": "2022-12-14T07:28:39.805182Z",
     "iopub.status.busy": "2022-12-14T07:28:39.804746Z",
     "iopub.status.idle": "2022-12-14T07:28:40.027943Z",
     "shell.execute_reply": "2022-12-14T07:28:40.026762Z"
    },
    "papermill": {
     "duration": 0.251112,
     "end_time": "2022-12-14T07:28:40.030579",
     "exception": false,
     "start_time": "2022-12-14T07:28:39.779467",
     "status": "completed"
    },
    "tags": []
   },
   "outputs": [
    {
     "data": {
      "text/plain": [
       "Text(0, 0.5, 'Data %age in each attribute value')"
      ]
     },
     "execution_count": 35,
     "metadata": {},
     "output_type": "execute_result"
    },
    {
     "data": {
      "image/png": "[encoded data removed]",
      "text/plain": [
       "<Figure size 432x288 with 1 Axes>"
      ]
     },
     "metadata": {
      "needs_background": "light"
     },
     "output_type": "display_data"
    }
   ],
   "source": [
    "ax = analyse[\"Data Distribution\"].plot(kind=\"bar\")\n",
    "ax.set_ylabel(\"Data %age in each attribute value\")"
   ]
  },
  {
   "cell_type": "code",
   "execution_count": 36,
   "id": "98cfd60a",
   "metadata": {
    "execution": {
     "iopub.execute_input": "2022-12-14T07:28:40.079068Z",
     "iopub.status.busy": "2022-12-14T07:28:40.078111Z",
     "iopub.status.idle": "2022-12-14T07:28:40.316505Z",
     "shell.execute_reply": "2022-12-14T07:28:40.315180Z"
    },
    "papermill": {
     "duration": 0.26545,
     "end_time": "2022-12-14T07:28:40.319187",
     "exception": false,
     "start_time": "2022-12-14T07:28:40.053737",
     "status": "completed"
    },
    "tags": []
   },
   "outputs": [
    {
     "data": {
      "text/plain": [
       "Text(0, 0.5, 'Percentage of Abnormal Failures')"
      ]
     },
     "execution_count": 36,
     "metadata": {},
     "output_type": "execute_result"
    },
    {
     "data": {
      "image/png": "[encoded data removed]",
      "text/plain": [
       "<Figure size 432x288 with 1 Axes>"
      ]
     },
     "metadata": {
      "needs_background": "light"
     },
     "output_type": "display_data"
    }
   ],
   "source": [
    "ax = analyse[\"Abnormal\"].plot(kind=\"bar\")\n",
    "ax.set_ylabel(\"Percentage of Abnormal Failures\")"
   ]
  },
  {
   "cell_type": "markdown",
   "id": "9399a998",
   "metadata": {
    "papermill": {
     "duration": 0.023624,
     "end_time": "2022-12-14T07:28:40.366904",
     "exception": false,
     "start_time": "2022-12-14T07:28:40.343280",
     "status": "completed"
    },
    "tags": []
   },
   "source": [
    "## Code0"
   ]
  },
  {
   "cell_type": "code",
   "execution_count": 37,
   "id": "f6562ea4",
   "metadata": {
    "execution": {
     "iopub.execute_input": "2022-12-14T07:28:40.417057Z",
     "iopub.status.busy": "2022-12-14T07:28:40.416355Z",
     "iopub.status.idle": "2022-12-14T07:28:42.420823Z",
     "shell.execute_reply": "2022-12-14T07:28:42.419617Z"
    },
    "papermill": {
     "duration": 2.032897,
     "end_time": "2022-12-14T07:28:42.423769",
     "exception": false,
     "start_time": "2022-12-14T07:28:40.390872",
     "status": "completed"
    },
    "tags": []
   },
   "outputs": [
    {
     "data": {
      "text/html": [
       "<div>\n",
       "<style scoped>\n",
       "    .dataframe tbody tr th:only-of-type {\n",
       "        vertical-align: middle;\n",
       "    }\n",
       "\n",
       "    .dataframe tbody tr th {\n",
       "        vertical-align: top;\n",
       "    }\n",
       "\n",
       "    .dataframe thead th {\n",
       "        text-align: right;\n",
       "    }\n",
       "</style>\n",
       "<table border=\"1\" class=\"dataframe\">\n",
       "  <thead>\n",
       "    <tr style=\"text-align: right;\">\n",
       "      <th></th>\n",
       "      <th>Abnormal</th>\n",
       "      <th>Data Distribution</th>\n",
       "    </tr>\n",
       "    <tr>\n",
       "      <th>Code0</th>\n",
       "      <th></th>\n",
       "      <th></th>\n",
       "    </tr>\n",
       "  </thead>\n",
       "  <tbody>\n",
       "    <tr>\n",
       "      <th></th>\n",
       "      <td>0.000000</td>\n",
       "      <td>0.006935</td>\n",
       "    </tr>\n",
       "    <tr>\n",
       "      <th>NULL</th>\n",
       "      <td>0.000000</td>\n",
       "      <td>2.141977</td>\n",
       "    </tr>\n",
       "    <tr>\n",
       "      <th>R00</th>\n",
       "      <td>0.083967</td>\n",
       "      <td>1.835450</td>\n",
       "    </tr>\n",
       "    <tr>\n",
       "      <th>R01</th>\n",
       "      <td>0.092747</td>\n",
       "      <td>1.661706</td>\n",
       "    </tr>\n",
       "    <tr>\n",
       "      <th>R02</th>\n",
       "      <td>0.047908</td>\n",
       "      <td>3.216975</td>\n",
       "    </tr>\n",
       "    <tr>\n",
       "      <th>...</th>\n",
       "      <td>...</td>\n",
       "      <td>...</td>\n",
       "    </tr>\n",
       "    <tr>\n",
       "      <th>R74</th>\n",
       "      <td>0.000000</td>\n",
       "      <td>0.358951</td>\n",
       "    </tr>\n",
       "    <tr>\n",
       "      <th>R75</th>\n",
       "      <td>0.000000</td>\n",
       "      <td>0.279724</td>\n",
       "    </tr>\n",
       "    <tr>\n",
       "      <th>R76</th>\n",
       "      <td>0.000000</td>\n",
       "      <td>0.449038</td>\n",
       "    </tr>\n",
       "    <tr>\n",
       "      <th>R77</th>\n",
       "      <td>0.000000</td>\n",
       "      <td>0.318495</td>\n",
       "    </tr>\n",
       "    <tr>\n",
       "      <th>UNKNOWN_LOCATION</th>\n",
       "      <td>0.000000</td>\n",
       "      <td>0.640794</td>\n",
       "    </tr>\n",
       "  </tbody>\n",
       "</table>\n",
       "<p>67 rows × 2 columns</p>\n",
       "</div>"
      ],
      "text/plain": [
       "                  Abnormal  Data Distribution\n",
       "Code0                                        \n",
       "                  0.000000           0.006935\n",
       "NULL              0.000000           2.141977\n",
       "R00               0.083967           1.835450\n",
       "R01               0.092747           1.661706\n",
       "R02               0.047908           3.216975\n",
       "...                    ...                ...\n",
       "R74               0.000000           0.358951\n",
       "R75               0.000000           0.279724\n",
       "R76               0.000000           0.449038\n",
       "R77               0.000000           0.318495\n",
       "UNKNOWN_LOCATION  0.000000           0.640794\n",
       "\n",
       "[67 rows x 2 columns]"
      ]
     },
     "execution_count": 37,
     "metadata": {},
     "output_type": "execute_result"
    }
   ],
   "source": [
    "col = \"Code0\"\n",
    "analyse = df[[col, \"Abnormal\"]].groupby(col).mean() * 100\n",
    "analyse[\"Data Distribution\"] = df[[col, \"Abnormal\"]].groupby(col).count()/len(df) * 100\n",
    "analyse"
   ]
  },
  {
   "cell_type": "code",
   "execution_count": 38,
   "id": "3ecfccf4",
   "metadata": {
    "execution": {
     "iopub.execute_input": "2022-12-14T07:28:42.473511Z",
     "iopub.status.busy": "2022-12-14T07:28:42.473043Z",
     "iopub.status.idle": "2022-12-14T07:28:43.499405Z",
     "shell.execute_reply": "2022-12-14T07:28:43.498530Z"
    },
    "papermill": {
     "duration": 1.053996,
     "end_time": "2022-12-14T07:28:43.501745",
     "exception": false,
     "start_time": "2022-12-14T07:28:42.447749",
     "status": "completed"
    },
    "tags": []
   },
   "outputs": [
    {
     "data": {
      "text/plain": [
       "Text(0, 0.5, 'Data %age in each attribute value')"
      ]
     },
     "execution_count": 38,
     "metadata": {},
     "output_type": "execute_result"
    },
    {
     "data": {
      "image/png": "[encoded data removed]",
      "text/plain": [
       "<Figure size 2520x720 with 1 Axes>"
      ]
     },
     "metadata": {
      "needs_background": "light"
     },
     "output_type": "display_data"
    }
   ],
   "source": [
    "ax = analyse[\"Data Distribution\"].plot(kind=\"bar\", figsize=(35, 10))\n",
    "ax.set_ylabel(\"Data %age in each attribute value\")"
   ]
  },
  {
   "cell_type": "code",
   "execution_count": 39,
   "id": "f09884c7",
   "metadata": {
    "execution": {
     "iopub.execute_input": "2022-12-14T07:28:43.553602Z",
     "iopub.status.busy": "2022-12-14T07:28:43.552571Z",
     "iopub.status.idle": "2022-12-14T07:28:44.593517Z",
     "shell.execute_reply": "2022-12-14T07:28:44.592666Z"
    },
    "papermill": {
     "duration": 1.068682,
     "end_time": "2022-12-14T07:28:44.595700",
     "exception": false,
     "start_time": "2022-12-14T07:28:43.527018",
     "status": "completed"
    },
    "tags": []
   },
   "outputs": [
    {
     "data": {
      "text/plain": [
       "Text(0, 0.5, 'Percentage of Abnormal Failures')"
      ]
     },
     "execution_count": 39,
     "metadata": {},
     "output_type": "execute_result"
    },
    {
     "data": {
      "image/png": "[encoded data removed]",
      "text/plain": [
       "<Figure size 2520x720 with 1 Axes>"
      ]
     },
     "metadata": {
      "needs_background": "light"
     },
     "output_type": "display_data"
    }
   ],
   "source": [
    "ax = analyse[\"Abnormal\"].plot(kind=\"bar\", figsize=(35, 10))\n",
    "ax.set_ylabel(\"Percentage of Abnormal Failures\")"
   ]
  },
  {
   "cell_type": "markdown",
   "id": "abc7b52f",
   "metadata": {
    "papermill": {
     "duration": 0.024773,
     "end_time": "2022-12-14T07:28:44.645521",
     "exception": false,
     "start_time": "2022-12-14T07:28:44.620748",
     "status": "completed"
    },
    "tags": []
   },
   "source": [
    "## Code1"
   ]
  },
  {
   "cell_type": "code",
   "execution_count": 40,
   "id": "6ac65a45",
   "metadata": {
    "execution": {
     "iopub.execute_input": "2022-12-14T07:28:44.696323Z",
     "iopub.status.busy": "2022-12-14T07:28:44.695729Z",
     "iopub.status.idle": "2022-12-14T07:28:46.425343Z",
     "shell.execute_reply": "2022-12-14T07:28:46.424226Z"
    },
    "papermill": {
     "duration": 1.75798,
     "end_time": "2022-12-14T07:28:46.427930",
     "exception": false,
     "start_time": "2022-12-14T07:28:44.669950",
     "status": "completed"
    },
    "tags": []
   },
   "outputs": [
    {
     "data": {
      "text/html": [
       "<div>\n",
       "<style scoped>\n",
       "    .dataframe tbody tr th:only-of-type {\n",
       "        vertical-align: middle;\n",
       "    }\n",
       "\n",
       "    .dataframe tbody tr th {\n",
       "        vertical-align: top;\n",
       "    }\n",
       "\n",
       "    .dataframe thead th {\n",
       "        text-align: right;\n",
       "    }\n",
       "</style>\n",
       "<table border=\"1\" class=\"dataframe\">\n",
       "  <thead>\n",
       "    <tr style=\"text-align: right;\">\n",
       "      <th></th>\n",
       "      <th>Abnormal</th>\n",
       "      <th>Data Distribution</th>\n",
       "    </tr>\n",
       "    <tr>\n",
       "      <th>Code1</th>\n",
       "      <th></th>\n",
       "      <th></th>\n",
       "    </tr>\n",
       "  </thead>\n",
       "  <tbody>\n",
       "    <tr>\n",
       "      <th></th>\n",
       "      <td>0.000000</td>\n",
       "      <td>0.006935</td>\n",
       "    </tr>\n",
       "    <tr>\n",
       "      <th>M0</th>\n",
       "      <td>3.183853</td>\n",
       "      <td>51.709134</td>\n",
       "    </tr>\n",
       "    <tr>\n",
       "      <th>M1</th>\n",
       "      <td>0.070125</td>\n",
       "      <td>45.500822</td>\n",
       "    </tr>\n",
       "  </tbody>\n",
       "</table>\n",
       "</div>"
      ],
      "text/plain": [
       "       Abnormal  Data Distribution\n",
       "Code1                             \n",
       "       0.000000           0.006935\n",
       "M0     3.183853          51.709134\n",
       "M1     0.070125          45.500822"
      ]
     },
     "execution_count": 40,
     "metadata": {},
     "output_type": "execute_result"
    }
   ],
   "source": [
    "col = \"Code1\"\n",
    "analyse = df[[col, \"Abnormal\"]].groupby(col).mean() * 100\n",
    "analyse[\"Data Distribution\"] = df[[col, \"Abnormal\"]].groupby(col).count()/len(df) * 100\n",
    "analyse"
   ]
  },
  {
   "cell_type": "code",
   "execution_count": 41,
   "id": "bfc792e1",
   "metadata": {
    "execution": {
     "iopub.execute_input": "2022-12-14T07:28:46.479968Z",
     "iopub.status.busy": "2022-12-14T07:28:46.479519Z",
     "iopub.status.idle": "2022-12-14T07:28:46.658253Z",
     "shell.execute_reply": "2022-12-14T07:28:46.657180Z"
    },
    "papermill": {
     "duration": 0.20735,
     "end_time": "2022-12-14T07:28:46.660621",
     "exception": false,
     "start_time": "2022-12-14T07:28:46.453271",
     "status": "completed"
    },
    "tags": []
   },
   "outputs": [
    {
     "data": {
      "text/plain": [
       "Text(0, 0.5, 'Data %age in each attribute value')"
      ]
     },
     "execution_count": 41,
     "metadata": {},
     "output_type": "execute_result"
    },
    {
     "data": {
      "image/png": "[encoded data removed]",
      "text/plain": [
       "<Figure size 432x288 with 1 Axes>"
      ]
     },
     "metadata": {
      "needs_background": "light"
     },
     "output_type": "display_data"
    }
   ],
   "source": [
    "ax = analyse[\"Data Distribution\"].plot(kind=\"bar\")\n",
    "ax.set_ylabel(\"Data %age in each attribute value\")"
   ]
  },
  {
   "cell_type": "code",
   "execution_count": 42,
   "id": "08c885bd",
   "metadata": {
    "execution": {
     "iopub.execute_input": "2022-12-14T07:28:46.713595Z",
     "iopub.status.busy": "2022-12-14T07:28:46.713134Z",
     "iopub.status.idle": "2022-12-14T07:28:46.901199Z",
     "shell.execute_reply": "2022-12-14T07:28:46.900235Z"
    },
    "papermill": {
     "duration": 0.217471,
     "end_time": "2022-12-14T07:28:46.903536",
     "exception": false,
     "start_time": "2022-12-14T07:28:46.686065",
     "status": "completed"
    },
    "tags": []
   },
   "outputs": [
    {
     "data": {
      "text/plain": [
       "Text(0, 0.5, 'Percentage of Abnormal Failures')"
      ]
     },
     "execution_count": 42,
     "metadata": {},
     "output_type": "execute_result"
    },
    {
     "data": {
      "image/png": "[encoded data removed]",
      "text/plain": [
       "<Figure size 432x288 with 1 Axes>"
      ]
     },
     "metadata": {
      "needs_background": "light"
     },
     "output_type": "display_data"
    }
   ],
   "source": [
    "ax = analyse[\"Abnormal\"].plot(kind=\"bar\")\n",
    "ax.set_ylabel(\"Percentage of Abnormal Failures\")"
   ]
  },
  {
   "cell_type": "markdown",
   "id": "cc8f54a5",
   "metadata": {
    "papermill": {
     "duration": 0.025066,
     "end_time": "2022-12-14T07:28:46.954340",
     "exception": false,
     "start_time": "2022-12-14T07:28:46.929274",
     "status": "completed"
    },
    "tags": []
   },
   "source": [
    "## Code2"
   ]
  },
  {
   "cell_type": "code",
   "execution_count": 43,
   "id": "d8927032",
   "metadata": {
    "execution": {
     "iopub.execute_input": "2022-12-14T07:28:47.007555Z",
     "iopub.status.busy": "2022-12-14T07:28:47.006863Z",
     "iopub.status.idle": "2022-12-14T07:28:48.753506Z",
     "shell.execute_reply": "2022-12-14T07:28:48.752685Z"
    },
    "papermill": {
     "duration": 1.775889,
     "end_time": "2022-12-14T07:28:48.755619",
     "exception": false,
     "start_time": "2022-12-14T07:28:46.979730",
     "status": "completed"
    },
    "tags": []
   },
   "outputs": [
    {
     "data": {
      "text/html": [
       "<div>\n",
       "<style scoped>\n",
       "    .dataframe tbody tr th:only-of-type {\n",
       "        vertical-align: middle;\n",
       "    }\n",
       "\n",
       "    .dataframe tbody tr th {\n",
       "        vertical-align: top;\n",
       "    }\n",
       "\n",
       "    .dataframe thead th {\n",
       "        text-align: right;\n",
       "    }\n",
       "</style>\n",
       "<table border=\"1\" class=\"dataframe\">\n",
       "  <thead>\n",
       "    <tr style=\"text-align: right;\">\n",
       "      <th></th>\n",
       "      <th>Abnormal</th>\n",
       "      <th>Data Distribution</th>\n",
       "    </tr>\n",
       "    <tr>\n",
       "      <th>Code2</th>\n",
       "      <th></th>\n",
       "      <th></th>\n",
       "    </tr>\n",
       "  </thead>\n",
       "  <tbody>\n",
       "    <tr>\n",
       "      <th>L0</th>\n",
       "      <td>0.000000</td>\n",
       "      <td>0.020108</td>\n",
       "    </tr>\n",
       "    <tr>\n",
       "      <th>L1</th>\n",
       "      <td>0.000000</td>\n",
       "      <td>0.016255</td>\n",
       "    </tr>\n",
       "    <tr>\n",
       "      <th>L2</th>\n",
       "      <td>0.000000</td>\n",
       "      <td>0.022684</td>\n",
       "    </tr>\n",
       "    <tr>\n",
       "      <th>L3</th>\n",
       "      <td>0.000000</td>\n",
       "      <td>0.029403</td>\n",
       "    </tr>\n",
       "    <tr>\n",
       "      <th>N0</th>\n",
       "      <td>0.175462</td>\n",
       "      <td>8.028735</td>\n",
       "    </tr>\n",
       "    <tr>\n",
       "      <th>N1</th>\n",
       "      <td>0.017664</td>\n",
       "      <td>5.589310</td>\n",
       "    </tr>\n",
       "    <tr>\n",
       "      <th>N2</th>\n",
       "      <td>0.012406</td>\n",
       "      <td>6.017422</td>\n",
       "    </tr>\n",
       "    <tr>\n",
       "      <th>N3</th>\n",
       "      <td>0.017532</td>\n",
       "      <td>5.769027</td>\n",
       "    </tr>\n",
       "    <tr>\n",
       "      <th>N4</th>\n",
       "      <td>0.212516</td>\n",
       "      <td>6.424871</td>\n",
       "    </tr>\n",
       "    <tr>\n",
       "      <th>N5</th>\n",
       "      <td>0.017645</td>\n",
       "      <td>5.458840</td>\n",
       "    </tr>\n",
       "    <tr>\n",
       "      <th>N6</th>\n",
       "      <td>0.013933</td>\n",
       "      <td>5.703575</td>\n",
       "    </tr>\n",
       "    <tr>\n",
       "      <th>N7</th>\n",
       "      <td>0.022389</td>\n",
       "      <td>5.808038</td>\n",
       "    </tr>\n",
       "    <tr>\n",
       "      <th>N8</th>\n",
       "      <td>0.221720</td>\n",
       "      <td>6.255919</td>\n",
       "    </tr>\n",
       "    <tr>\n",
       "      <th>N9</th>\n",
       "      <td>22.186693</td>\n",
       "      <td>7.267368</td>\n",
       "    </tr>\n",
       "    <tr>\n",
       "      <th>NA</th>\n",
       "      <td>0.014093</td>\n",
       "      <td>5.638917</td>\n",
       "    </tr>\n",
       "    <tr>\n",
       "      <th>NB</th>\n",
       "      <td>0.019834</td>\n",
       "      <td>5.827929</td>\n",
       "    </tr>\n",
       "    <tr>\n",
       "      <th>NC</th>\n",
       "      <td>0.225260</td>\n",
       "      <td>6.136237</td>\n",
       "    </tr>\n",
       "    <tr>\n",
       "      <th>ND</th>\n",
       "      <td>0.012568</td>\n",
       "      <td>5.748197</td>\n",
       "    </tr>\n",
       "    <tr>\n",
       "      <th>NE</th>\n",
       "      <td>0.017511</td>\n",
       "      <td>5.638315</td>\n",
       "    </tr>\n",
       "    <tr>\n",
       "      <th>NF</th>\n",
       "      <td>0.016635</td>\n",
       "      <td>5.790386</td>\n",
       "    </tr>\n",
       "    <tr>\n",
       "      <th>S</th>\n",
       "      <td>0.000000</td>\n",
       "      <td>0.002336</td>\n",
       "    </tr>\n",
       "  </tbody>\n",
       "</table>\n",
       "</div>"
      ],
      "text/plain": [
       "        Abnormal  Data Distribution\n",
       "Code2                              \n",
       "L0      0.000000           0.020108\n",
       "L1      0.000000           0.016255\n",
       "L2      0.000000           0.022684\n",
       "L3      0.000000           0.029403\n",
       "N0      0.175462           8.028735\n",
       "N1      0.017664           5.589310\n",
       "N2      0.012406           6.017422\n",
       "N3      0.017532           5.769027\n",
       "N4      0.212516           6.424871\n",
       "N5      0.017645           5.458840\n",
       "N6      0.013933           5.703575\n",
       "N7      0.022389           5.808038\n",
       "N8      0.221720           6.255919\n",
       "N9     22.186693           7.267368\n",
       "NA      0.014093           5.638917\n",
       "NB      0.019834           5.827929\n",
       "NC      0.225260           6.136237\n",
       "ND      0.012568           5.748197\n",
       "NE      0.017511           5.638315\n",
       "NF      0.016635           5.790386\n",
       "S       0.000000           0.002336"
      ]
     },
     "execution_count": 43,
     "metadata": {},
     "output_type": "execute_result"
    }
   ],
   "source": [
    "col = \"Code2\"\n",
    "analyse = df[[col, \"Abnormal\"]].groupby(col).mean() * 100\n",
    "analyse[\"Data Distribution\"] = df[[col, \"Abnormal\"]].groupby(col).count()/len(df) * 100\n",
    "analyse"
   ]
  },
  {
   "cell_type": "code",
   "execution_count": 44,
   "id": "2389a566",
   "metadata": {
    "execution": {
     "iopub.execute_input": "2022-12-14T07:28:48.809770Z",
     "iopub.status.busy": "2022-12-14T07:28:48.809109Z",
     "iopub.status.idle": "2022-12-14T07:28:49.103778Z",
     "shell.execute_reply": "2022-12-14T07:28:49.102534Z"
    },
    "papermill": {
     "duration": 0.324973,
     "end_time": "2022-12-14T07:28:49.106403",
     "exception": false,
     "start_time": "2022-12-14T07:28:48.781430",
     "status": "completed"
    },
    "tags": []
   },
   "outputs": [
    {
     "data": {
      "text/plain": [
       "Text(0, 0.5, 'Data %age in each attribute value')"
      ]
     },
     "execution_count": 44,
     "metadata": {},
     "output_type": "execute_result"
    },
    {
     "data": {
      "image/png": "[encoded data removed]",
      "text/plain": [
       "<Figure size 432x288 with 1 Axes>"
      ]
     },
     "metadata": {
      "needs_background": "light"
     },
     "output_type": "display_data"
    }
   ],
   "source": [
    "ax = analyse[\"Data Distribution\"].plot(kind=\"bar\")\n",
    "ax.set_ylabel(\"Data %age in each attribute value\")"
   ]
  },
  {
   "cell_type": "code",
   "execution_count": 45,
   "id": "eeb60de2",
   "metadata": {
    "execution": {
     "iopub.execute_input": "2022-12-14T07:28:49.159790Z",
     "iopub.status.busy": "2022-12-14T07:28:49.159405Z",
     "iopub.status.idle": "2022-12-14T07:28:49.452637Z",
     "shell.execute_reply": "2022-12-14T07:28:49.450646Z"
    },
    "papermill": {
     "duration": 0.325208,
     "end_time": "2022-12-14T07:28:49.457531",
     "exception": false,
     "start_time": "2022-12-14T07:28:49.132323",
     "status": "completed"
    },
    "tags": []
   },
   "outputs": [
    {
     "data": {
      "text/plain": [
       "Text(0, 0.5, 'Percentage of Abnormal Failures')"
      ]
     },
     "execution_count": 45,
     "metadata": {},
     "output_type": "execute_result"
    },
    {
     "data": {
      "image/png": "[encoded data removed]",
      "text/plain": [
       "<Figure size 432x288 with 1 Axes>"
      ]
     },
     "metadata": {
      "needs_background": "light"
     },
     "output_type": "display_data"
    }
   ],
   "source": [
    "ax = analyse[\"Abnormal\"].plot(kind=\"bar\")\n",
    "ax.set_ylabel(\"Percentage of Abnormal Failures\")"
   ]
  },
  {
   "cell_type": "markdown",
   "id": "bb907012",
   "metadata": {
    "papermill": {
     "duration": 0.0291,
     "end_time": "2022-12-14T07:28:49.516598",
     "exception": false,
     "start_time": "2022-12-14T07:28:49.487498",
     "status": "completed"
    },
    "tags": []
   },
   "source": [
    "## Code3"
   ]
  },
  {
   "cell_type": "code",
   "execution_count": 46,
   "id": "6b698513",
   "metadata": {
    "execution": {
     "iopub.execute_input": "2022-12-14T07:28:49.571963Z",
     "iopub.status.busy": "2022-12-14T07:28:49.570962Z",
     "iopub.status.idle": "2022-12-14T07:28:51.296615Z",
     "shell.execute_reply": "2022-12-14T07:28:51.295744Z"
    },
    "papermill": {
     "duration": 1.755338,
     "end_time": "2022-12-14T07:28:51.298866",
     "exception": false,
     "start_time": "2022-12-14T07:28:49.543528",
     "status": "completed"
    },
    "tags": []
   },
   "outputs": [
    {
     "data": {
      "text/html": [
       "<div>\n",
       "<style scoped>\n",
       "    .dataframe tbody tr th:only-of-type {\n",
       "        vertical-align: middle;\n",
       "    }\n",
       "\n",
       "    .dataframe tbody tr th {\n",
       "        vertical-align: top;\n",
       "    }\n",
       "\n",
       "    .dataframe thead th {\n",
       "        text-align: right;\n",
       "    }\n",
       "</style>\n",
       "<table border=\"1\" class=\"dataframe\">\n",
       "  <thead>\n",
       "    <tr style=\"text-align: right;\">\n",
       "      <th></th>\n",
       "      <th>Abnormal</th>\n",
       "      <th>Data Distribution</th>\n",
       "    </tr>\n",
       "    <tr>\n",
       "      <th>Code3</th>\n",
       "      <th></th>\n",
       "      <th></th>\n",
       "    </tr>\n",
       "  </thead>\n",
       "  <tbody>\n",
       "    <tr>\n",
       "      <th>C:J02</th>\n",
       "      <td>0.017400</td>\n",
       "      <td>5.397506</td>\n",
       "    </tr>\n",
       "    <tr>\n",
       "      <th>C:J03</th>\n",
       "      <td>0.025623</td>\n",
       "      <td>5.169001</td>\n",
       "    </tr>\n",
       "    <tr>\n",
       "      <th>C:J04</th>\n",
       "      <td>0.016905</td>\n",
       "      <td>5.555356</td>\n",
       "    </tr>\n",
       "    <tr>\n",
       "      <th>C:J05</th>\n",
       "      <td>0.018561</td>\n",
       "      <td>5.189663</td>\n",
       "    </tr>\n",
       "    <tr>\n",
       "      <th>C:J06</th>\n",
       "      <td>0.019013</td>\n",
       "      <td>5.319387</td>\n",
       "    </tr>\n",
       "    <tr>\n",
       "      <th>C:J07</th>\n",
       "      <td>0.014992</td>\n",
       "      <td>5.621820</td>\n",
       "    </tr>\n",
       "    <tr>\n",
       "      <th>C:J08</th>\n",
       "      <td>0.015550</td>\n",
       "      <td>5.265422</td>\n",
       "    </tr>\n",
       "    <tr>\n",
       "      <th>C:J09</th>\n",
       "      <td>0.023449</td>\n",
       "      <td>5.340241</td>\n",
       "    </tr>\n",
       "    <tr>\n",
       "      <th>C:J10</th>\n",
       "      <td>0.016160</td>\n",
       "      <td>5.364563</td>\n",
       "    </tr>\n",
       "    <tr>\n",
       "      <th>C:J11</th>\n",
       "      <td>0.014400</td>\n",
       "      <td>5.183932</td>\n",
       "    </tr>\n",
       "    <tr>\n",
       "      <th>C:J12</th>\n",
       "      <td>0.012301</td>\n",
       "      <td>6.851779</td>\n",
       "    </tr>\n",
       "    <tr>\n",
       "      <th>C:J13</th>\n",
       "      <td>0.016488</td>\n",
       "      <td>5.257908</td>\n",
       "    </tr>\n",
       "    <tr>\n",
       "      <th>C:J14</th>\n",
       "      <td>0.020088</td>\n",
       "      <td>5.154721</td>\n",
       "    </tr>\n",
       "    <tr>\n",
       "      <th>C:J15</th>\n",
       "      <td>0.014954</td>\n",
       "      <td>5.474998</td>\n",
       "    </tr>\n",
       "    <tr>\n",
       "      <th>C:J16</th>\n",
       "      <td>23.287781</td>\n",
       "      <td>6.923444</td>\n",
       "    </tr>\n",
       "    <tr>\n",
       "      <th>C:J17</th>\n",
       "      <td>0.009735</td>\n",
       "      <td>5.689608</td>\n",
       "    </tr>\n",
       "    <tr>\n",
       "      <th>I:J18</th>\n",
       "      <td>0.785721</td>\n",
       "      <td>6.632281</td>\n",
       "    </tr>\n",
       "    <tr>\n",
       "      <th>U18</th>\n",
       "      <td>0.000000</td>\n",
       "      <td>0.014713</td>\n",
       "    </tr>\n",
       "    <tr>\n",
       "      <th>U19</th>\n",
       "      <td>0.000000</td>\n",
       "      <td>0.002095</td>\n",
       "    </tr>\n",
       "    <tr>\n",
       "      <th>U20</th>\n",
       "      <td>0.000000</td>\n",
       "      <td>0.000169</td>\n",
       "    </tr>\n",
       "    <tr>\n",
       "      <th>U22</th>\n",
       "      <td>0.000000</td>\n",
       "      <td>0.006237</td>\n",
       "    </tr>\n",
       "  </tbody>\n",
       "</table>\n",
       "</div>"
      ],
      "text/plain": [
       "        Abnormal  Data Distribution\n",
       "Code3                              \n",
       "C:J02   0.017400           5.397506\n",
       "C:J03   0.025623           5.169001\n",
       "C:J04   0.016905           5.555356\n",
       "C:J05   0.018561           5.189663\n",
       "C:J06   0.019013           5.319387\n",
       "C:J07   0.014992           5.621820\n",
       "C:J08   0.015550           5.265422\n",
       "C:J09   0.023449           5.340241\n",
       "C:J10   0.016160           5.364563\n",
       "C:J11   0.014400           5.183932\n",
       "C:J12   0.012301           6.851779\n",
       "C:J13   0.016488           5.257908\n",
       "C:J14   0.020088           5.154721\n",
       "C:J15   0.014954           5.474998\n",
       "C:J16  23.287781           6.923444\n",
       "C:J17   0.009735           5.689608\n",
       "I:J18   0.785721           6.632281\n",
       "U18     0.000000           0.014713\n",
       "U19     0.000000           0.002095\n",
       "U20     0.000000           0.000169\n",
       "U22     0.000000           0.006237"
      ]
     },
     "execution_count": 46,
     "metadata": {},
     "output_type": "execute_result"
    }
   ],
   "source": [
    "col = \"Code3\"\n",
    "analyse = df[[col, \"Abnormal\"]].groupby(col).mean() * 100\n",
    "analyse[\"Data Distribution\"] = df[[col, \"Abnormal\"]].groupby(col).count()/len(df) * 100\n",
    "analyse"
   ]
  },
  {
   "cell_type": "code",
   "execution_count": 47,
   "id": "c55a11f0",
   "metadata": {
    "execution": {
     "iopub.execute_input": "2022-12-14T07:28:51.354579Z",
     "iopub.status.busy": "2022-12-14T07:28:51.353708Z",
     "iopub.status.idle": "2022-12-14T07:28:51.658706Z",
     "shell.execute_reply": "2022-12-14T07:28:51.657453Z"
    },
    "papermill": {
     "duration": 0.335431,
     "end_time": "2022-12-14T07:28:51.661074",
     "exception": false,
     "start_time": "2022-12-14T07:28:51.325643",
     "status": "completed"
    },
    "tags": []
   },
   "outputs": [
    {
     "data": {
      "text/plain": [
       "Text(0, 0.5, 'Data %age in each attribute value')"
      ]
     },
     "execution_count": 47,
     "metadata": {},
     "output_type": "execute_result"
    },
    {
     "data": {
      "image/png": "[encoded data removed]",
      "text/plain": [
       "<Figure size 432x288 with 1 Axes>"
      ]
     },
     "metadata": {
      "needs_background": "light"
     },
     "output_type": "display_data"
    }
   ],
   "source": [
    "ax = analyse[\"Data Distribution\"].plot(kind=\"bar\")\n",
    "ax.set_ylabel(\"Data %age in each attribute value\")"
   ]
  },
  {
   "cell_type": "code",
   "execution_count": 48,
   "id": "4be7b039",
   "metadata": {
    "execution": {
     "iopub.execute_input": "2022-12-14T07:28:51.717257Z",
     "iopub.status.busy": "2022-12-14T07:28:51.716218Z",
     "iopub.status.idle": "2022-12-14T07:28:52.010560Z",
     "shell.execute_reply": "2022-12-14T07:28:52.009340Z"
    },
    "papermill": {
     "duration": 0.324785,
     "end_time": "2022-12-14T07:28:52.012995",
     "exception": false,
     "start_time": "2022-12-14T07:28:51.688210",
     "status": "completed"
    },
    "tags": []
   },
   "outputs": [
    {
     "data": {
      "text/plain": [
       "Text(0, 0.5, 'Percentage of Abnormal Failures')"
      ]
     },
     "execution_count": 48,
     "metadata": {},
     "output_type": "execute_result"
    },
    {
     "data": {
      "image/png": "[encoded data removed]",
      "text/plain": [
       "<Figure size 432x288 with 1 Axes>"
      ]
     },
     "metadata": {
      "needs_background": "light"
     },
     "output_type": "display_data"
    }
   ],
   "source": [
    "ax = analyse[\"Abnormal\"].plot(kind=\"bar\")\n",
    "ax.set_ylabel(\"Percentage of Abnormal Failures\")"
   ]
  },
  {
   "cell_type": "markdown",
   "id": "c0ce93ec",
   "metadata": {
    "papermill": {
     "duration": 0.026475,
     "end_time": "2022-12-14T07:28:52.066639",
     "exception": false,
     "start_time": "2022-12-14T07:28:52.040164",
     "status": "completed"
    },
    "tags": []
   },
   "source": [
    "## Code4"
   ]
  },
  {
   "cell_type": "code",
   "execution_count": 49,
   "id": "11e0480f",
   "metadata": {
    "execution": {
     "iopub.execute_input": "2022-12-14T07:28:52.122020Z",
     "iopub.status.busy": "2022-12-14T07:28:52.121615Z",
     "iopub.status.idle": "2022-12-14T07:28:53.804721Z",
     "shell.execute_reply": "2022-12-14T07:28:53.803634Z"
    },
    "papermill": {
     "duration": 1.713841,
     "end_time": "2022-12-14T07:28:53.807304",
     "exception": false,
     "start_time": "2022-12-14T07:28:52.093463",
     "status": "completed"
    },
    "tags": []
   },
   "outputs": [
    {
     "data": {
      "text/html": [
       "<div>\n",
       "<style scoped>\n",
       "    .dataframe tbody tr th:only-of-type {\n",
       "        vertical-align: middle;\n",
       "    }\n",
       "\n",
       "    .dataframe tbody tr th {\n",
       "        vertical-align: top;\n",
       "    }\n",
       "\n",
       "    .dataframe thead th {\n",
       "        text-align: right;\n",
       "    }\n",
       "</style>\n",
       "<table border=\"1\" class=\"dataframe\">\n",
       "  <thead>\n",
       "    <tr style=\"text-align: right;\">\n",
       "      <th></th>\n",
       "      <th>Abnormal</th>\n",
       "      <th>Data Distribution</th>\n",
       "    </tr>\n",
       "    <tr>\n",
       "      <th>Code4</th>\n",
       "      <th></th>\n",
       "      <th></th>\n",
       "    </tr>\n",
       "  </thead>\n",
       "  <tbody>\n",
       "    <tr>\n",
       "      <th>C</th>\n",
       "      <td>0.000000</td>\n",
       "      <td>0.023214</td>\n",
       "    </tr>\n",
       "    <tr>\n",
       "      <th>U01</th>\n",
       "      <td>3.452238</td>\n",
       "      <td>47.705193</td>\n",
       "    </tr>\n",
       "    <tr>\n",
       "      <th>U11</th>\n",
       "      <td>0.065749</td>\n",
       "      <td>47.686434</td>\n",
       "    </tr>\n",
       "  </tbody>\n",
       "</table>\n",
       "</div>"
      ],
      "text/plain": [
       "       Abnormal  Data Distribution\n",
       "Code4                             \n",
       "C      0.000000           0.023214\n",
       "U01    3.452238          47.705193\n",
       "U11    0.065749          47.686434"
      ]
     },
     "execution_count": 49,
     "metadata": {},
     "output_type": "execute_result"
    }
   ],
   "source": [
    "col = \"Code4\"\n",
    "analyse = df[[col, \"Abnormal\"]].groupby(col).mean() * 100\n",
    "analyse[\"Data Distribution\"] = df[[col, \"Abnormal\"]].groupby(col).count()/len(df) * 100\n",
    "analyse"
   ]
  },
  {
   "cell_type": "code",
   "execution_count": 50,
   "id": "697785c0",
   "metadata": {
    "execution": {
     "iopub.execute_input": "2022-12-14T07:28:53.864259Z",
     "iopub.status.busy": "2022-12-14T07:28:53.863839Z",
     "iopub.status.idle": "2022-12-14T07:28:54.040512Z",
     "shell.execute_reply": "2022-12-14T07:28:54.039427Z"
    },
    "papermill": {
     "duration": 0.207925,
     "end_time": "2022-12-14T07:28:54.042913",
     "exception": false,
     "start_time": "2022-12-14T07:28:53.834988",
     "status": "completed"
    },
    "tags": []
   },
   "outputs": [
    {
     "data": {
      "text/plain": [
       "Text(0, 0.5, 'Data %age in each attribute value')"
      ]
     },
     "execution_count": 50,
     "metadata": {},
     "output_type": "execute_result"
    },
    {
     "data": {
      "image/png": "[encoded data removed]",
      "text/plain": [
       "<Figure size 432x288 with 1 Axes>"
      ]
     },
     "metadata": {
      "needs_background": "light"
     },
     "output_type": "display_data"
    }
   ],
   "source": [
    "ax = analyse[\"Data Distribution\"].plot(kind=\"bar\")\n",
    "ax.set_ylabel(\"Data %age in each attribute value\")"
   ]
  },
  {
   "cell_type": "code",
   "execution_count": 51,
   "id": "2f3703f0",
   "metadata": {
    "execution": {
     "iopub.execute_input": "2022-12-14T07:28:54.100615Z",
     "iopub.status.busy": "2022-12-14T07:28:54.100211Z",
     "iopub.status.idle": "2022-12-14T07:28:54.281668Z",
     "shell.execute_reply": "2022-12-14T07:28:54.280822Z"
    },
    "papermill": {
     "duration": 0.212682,
     "end_time": "2022-12-14T07:28:54.283877",
     "exception": false,
     "start_time": "2022-12-14T07:28:54.071195",
     "status": "completed"
    },
    "tags": []
   },
   "outputs": [
    {
     "data": {
      "text/plain": [
       "Text(0, 0.5, 'Percentage of Abnormal Failures')"
      ]
     },
     "execution_count": 51,
     "metadata": {},
     "output_type": "execute_result"
    },
    {
     "data": {
      "image/png": "[encoded data removed]",
      "text/plain": [
       "<Figure size 432x288 with 1 Axes>"
      ]
     },
     "metadata": {
      "needs_background": "light"
     },
     "output_type": "display_data"
    }
   ],
   "source": [
    "ax = analyse[\"Abnormal\"].plot(kind=\"bar\")\n",
    "ax.set_ylabel(\"Percentage of Abnormal Failures\")"
   ]
  },
  {
   "cell_type": "markdown",
   "id": "6d36af21",
   "metadata": {
    "papermill": {
     "duration": 0.027876,
     "end_time": "2022-12-14T07:28:54.340084",
     "exception": false,
     "start_time": "2022-12-14T07:28:54.312208",
     "status": "completed"
    },
    "tags": []
   },
   "source": [
    "## ErrorLoc"
   ]
  },
  {
   "cell_type": "code",
   "execution_count": 52,
   "id": "335d0f24",
   "metadata": {
    "execution": {
     "iopub.execute_input": "2022-12-14T07:28:54.399389Z",
     "iopub.status.busy": "2022-12-14T07:28:54.398721Z",
     "iopub.status.idle": "2022-12-14T07:28:55.764772Z",
     "shell.execute_reply": "2022-12-14T07:28:55.763934Z"
    },
    "papermill": {
     "duration": 1.399565,
     "end_time": "2022-12-14T07:28:55.767714",
     "exception": false,
     "start_time": "2022-12-14T07:28:54.368149",
     "status": "completed"
    },
    "tags": []
   },
   "outputs": [
    {
     "data": {
      "text/html": [
       "<div>\n",
       "<style scoped>\n",
       "    .dataframe tbody tr th:only-of-type {\n",
       "        vertical-align: middle;\n",
       "    }\n",
       "\n",
       "    .dataframe tbody tr th {\n",
       "        vertical-align: top;\n",
       "    }\n",
       "\n",
       "    .dataframe thead th {\n",
       "        text-align: right;\n",
       "    }\n",
       "</style>\n",
       "<table border=\"1\" class=\"dataframe\">\n",
       "  <thead>\n",
       "    <tr style=\"text-align: right;\">\n",
       "      <th></th>\n",
       "      <th>Abnormal</th>\n",
       "      <th>Data Distribution</th>\n",
       "    </tr>\n",
       "    <tr>\n",
       "      <th>ErrorLoc</th>\n",
       "      <th></th>\n",
       "      <th></th>\n",
       "    </tr>\n",
       "  </thead>\n",
       "  <tbody>\n",
       "    <tr>\n",
       "      <th>\u000f.²Ð\u00101}ÐDÝC`\u000f)ÙpDÝCpDÝC@DÝC@RAS</th>\n",
       "      <td>0.000000</td>\n",
       "      <td>0.000048</td>\n",
       "    </tr>\n",
       "    <tr>\n",
       "      <th>\u000f.²ÐFÇiDÝC`\u000f)ÙpDÝCpDÝC@DÝC@RAS</th>\n",
       "      <td>0.000000</td>\n",
       "      <td>0.000048</td>\n",
       "    </tr>\n",
       "    <tr>\n",
       "      <th>\u000f.²ÐM·q8Oïã`\u000f)ÙpOïãpOïã@Oïã@RAS</th>\n",
       "      <td>0.000000</td>\n",
       "      <td>0.000096</td>\n",
       "    </tr>\n",
       "    <tr>\n",
       "      <th>NULLCMCS</th>\n",
       "      <td>0.000000</td>\n",
       "      <td>0.004286</td>\n",
       "    </tr>\n",
       "    <tr>\n",
       "      <th>NULLDISCOVERY</th>\n",
       "      <td>0.000000</td>\n",
       "      <td>2.284175</td>\n",
       "    </tr>\n",
       "    <tr>\n",
       "      <th>NULLHARDWARE</th>\n",
       "      <td>0.000000</td>\n",
       "      <td>0.107594</td>\n",
       "    </tr>\n",
       "    <tr>\n",
       "      <th>NULLMONITOR</th>\n",
       "      <td>0.000000</td>\n",
       "      <td>0.040119</td>\n",
       "    </tr>\n",
       "    <tr>\n",
       "      <th>NULLSERV_NET</th>\n",
       "      <td>0.000000</td>\n",
       "      <td>0.000072</td>\n",
       "    </tr>\n",
       "    <tr>\n",
       "      <th>RASAPP</th>\n",
       "      <td>1.476861</td>\n",
       "      <td>3.528510</td>\n",
       "    </tr>\n",
       "    <tr>\n",
       "      <th>RASBGLMASTER</th>\n",
       "      <td>0.000000</td>\n",
       "      <td>0.002095</td>\n",
       "    </tr>\n",
       "    <tr>\n",
       "      <th>RASKERNEL</th>\n",
       "      <td>1.770048</td>\n",
       "      <td>91.869763</td>\n",
       "    </tr>\n",
       "    <tr>\n",
       "      <th>RASLINKCARD</th>\n",
       "      <td>0.000000</td>\n",
       "      <td>0.023214</td>\n",
       "    </tr>\n",
       "    <tr>\n",
       "      <th>RASMMCS</th>\n",
       "      <td>0.000000</td>\n",
       "      <td>2.139882</td>\n",
       "    </tr>\n",
       "    <tr>\n",
       "      <th>nputinterrupts,</th>\n",
       "      <td>0.000000</td>\n",
       "      <td>0.000048</td>\n",
       "    </tr>\n",
       "    <tr>\n",
       "      <th>timefor</th>\n",
       "      <td>0.000000</td>\n",
       "      <td>0.000048</td>\n",
       "    </tr>\n",
       "  </tbody>\n",
       "</table>\n",
       "</div>"
      ],
      "text/plain": [
       "                                 Abnormal  Data Distribution\n",
       "ErrorLoc                                                    \n",
       "\u000f.²Ð\u00101}ÐDÝC`\u000f)ÙpDÝCpDÝC@DÝC@RAS  0.000000           0.000048\n",
       "\u000f.²ÐFÇiDÝC`\u000f)ÙpDÝCpDÝC@DÝC@RAS  0.000000           0.000048\n",
       "\u000f.²ÐM·q8Oïã`\u000f)ÙpOïãpOïã@Oïã@RAS  0.000000           0.000096\n",
       "NULLCMCS                         0.000000           0.004286\n",
       "NULLDISCOVERY                    0.000000           2.284175\n",
       "NULLHARDWARE                     0.000000           0.107594\n",
       "NULLMONITOR                      0.000000           0.040119\n",
       "NULLSERV_NET                     0.000000           0.000072\n",
       "RASAPP                           1.476861           3.528510\n",
       "RASBGLMASTER                     0.000000           0.002095\n",
       "RASKERNEL                        1.770048          91.869763\n",
       "RASLINKCARD                      0.000000           0.023214\n",
       "RASMMCS                          0.000000           2.139882\n",
       "nputinterrupts,                  0.000000           0.000048\n",
       "timefor                          0.000000           0.000048"
      ]
     },
     "execution_count": 52,
     "metadata": {},
     "output_type": "execute_result"
    }
   ],
   "source": [
    "col = \"ErrorLoc\"\n",
    "analyse = df[[col, \"Abnormal\"]].groupby(col).mean() * 100\n",
    "analyse[\"Data Distribution\"] = df[[col, \"Abnormal\"]].groupby(col).count()/len(df) * 100\n",
    "analyse"
   ]
  },
  {
   "cell_type": "code",
   "execution_count": 53,
   "id": "8f644dbf",
   "metadata": {
    "execution": {
     "iopub.execute_input": "2022-12-14T07:28:55.845066Z",
     "iopub.status.busy": "2022-12-14T07:28:55.844573Z",
     "iopub.status.idle": "2022-12-14T07:28:56.154935Z",
     "shell.execute_reply": "2022-12-14T07:28:56.154028Z"
    },
    "papermill": {
     "duration": 0.347755,
     "end_time": "2022-12-14T07:28:56.157345",
     "exception": false,
     "start_time": "2022-12-14T07:28:55.809590",
     "status": "completed"
    },
    "tags": []
   },
   "outputs": [
    {
     "data": {
      "text/plain": [
       "Text(0, 0.5, 'Data %age in each attribute value')"
      ]
     },
     "execution_count": 53,
     "metadata": {},
     "output_type": "execute_result"
    },
    {
     "name": "stderr",
     "output_type": "stream",
     "text": [
      "/opt/conda/lib/python3.7/site-packages/IPython/core/events.py:89: UserWarning: Glyph 15 (\u000f) missing from current font.\n",
      "  func(*args, **kwargs)\n",
      "/opt/conda/lib/python3.7/site-packages/IPython/core/events.py:89: UserWarning: Glyph 16 (\u0010) missing from current font.\n",
      "  func(*args, **kwargs)\n",
      "/opt/conda/lib/python3.7/site-packages/IPython/core/events.py:89: UserWarning: Glyph 152 (\\x98) missing from current font.\n",
      "  func(*args, **kwargs)\n",
      "/opt/conda/lib/python3.7/site-packages/IPython/core/pylabtools.py:151: UserWarning: Glyph 15 (\u000f) missing from current font.\n",
      "  fig.canvas.print_figure(bytes_io, **kw)\n",
      "/opt/conda/lib/python3.7/site-packages/IPython/core/pylabtools.py:151: UserWarning: Glyph 16 (\u0010) missing from current font.\n",
      "  fig.canvas.print_figure(bytes_io, **kw)\n",
      "/opt/conda/lib/python3.7/site-packages/IPython/core/pylabtools.py:151: UserWarning: Glyph 152 (\\x98) missing from current font.\n",
      "  fig.canvas.print_figure(bytes_io, **kw)\n"
     ]
    },
    {
     "data": {
      "image/png": "[encoded data removed]",
      "text/plain": [
       "<Figure size 432x288 with 1 Axes>"
      ]
     },
     "metadata": {
      "needs_background": "light"
     },
     "output_type": "display_data"
    }
   ],
   "source": [
    "ax = analyse[\"Data Distribution\"].plot(kind=\"bar\")\n",
    "ax.set_ylabel(\"Data %age in each attribute value\")"
   ]
  },
  {
   "cell_type": "code",
   "execution_count": 54,
   "id": "a7870176",
   "metadata": {
    "execution": {
     "iopub.execute_input": "2022-12-14T07:28:56.219017Z",
     "iopub.status.busy": "2022-12-14T07:28:56.217950Z",
     "iopub.status.idle": "2022-12-14T07:28:56.530361Z",
     "shell.execute_reply": "2022-12-14T07:28:56.529341Z"
    },
    "papermill": {
     "duration": 0.345585,
     "end_time": "2022-12-14T07:28:56.532623",
     "exception": false,
     "start_time": "2022-12-14T07:28:56.187038",
     "status": "completed"
    },
    "tags": []
   },
   "outputs": [
    {
     "data": {
      "text/plain": [
       "Text(0, 0.5, 'Percentage of Abnormal Failures')"
      ]
     },
     "execution_count": 54,
     "metadata": {},
     "output_type": "execute_result"
    },
    {
     "data": {
      "image/png": "[encoded data removed]",
      "text/plain": [
       "<Figure size 432x288 with 1 Axes>"
      ]
     },
     "metadata": {
      "needs_background": "light"
     },
     "output_type": "display_data"
    }
   ],
   "source": [
    "ax = analyse[\"Abnormal\"].plot(kind=\"bar\")\n",
    "ax.set_ylabel(\"Percentage of Abnormal Failures\")"
   ]
  },
  {
   "cell_type": "markdown",
   "id": "626a00d7",
   "metadata": {
    "papermill": {
     "duration": 0.02973,
     "end_time": "2022-12-14T07:28:56.593623",
     "exception": false,
     "start_time": "2022-12-14T07:28:56.563893",
     "status": "completed"
    },
    "tags": []
   },
   "source": [
    "## ErrorType"
   ]
  },
  {
   "cell_type": "code",
   "execution_count": 55,
   "id": "29174f31",
   "metadata": {
    "execution": {
     "iopub.execute_input": "2022-12-14T07:28:56.654450Z",
     "iopub.status.busy": "2022-12-14T07:28:56.654044Z",
     "iopub.status.idle": "2022-12-14T07:28:58.298541Z",
     "shell.execute_reply": "2022-12-14T07:28:58.297549Z"
    },
    "papermill": {
     "duration": 1.677898,
     "end_time": "2022-12-14T07:28:58.301044",
     "exception": false,
     "start_time": "2022-12-14T07:28:56.623146",
     "status": "completed"
    },
    "tags": []
   },
   "outputs": [
    {
     "data": {
      "text/html": [
       "<div>\n",
       "<style scoped>\n",
       "    .dataframe tbody tr th:only-of-type {\n",
       "        vertical-align: middle;\n",
       "    }\n",
       "\n",
       "    .dataframe tbody tr th {\n",
       "        vertical-align: top;\n",
       "    }\n",
       "\n",
       "    .dataframe thead th {\n",
       "        text-align: right;\n",
       "    }\n",
       "</style>\n",
       "<table border=\"1\" class=\"dataframe\">\n",
       "  <thead>\n",
       "    <tr style=\"text-align: right;\">\n",
       "      <th></th>\n",
       "      <th>Abnormal</th>\n",
       "      <th>Data Distribution</th>\n",
       "    </tr>\n",
       "    <tr>\n",
       "      <th>ErrorType</th>\n",
       "      <th></th>\n",
       "      <th></th>\n",
       "    </tr>\n",
       "  </thead>\n",
       "  <tbody>\n",
       "    <tr>\n",
       "      <th>0</th>\n",
       "      <td>0.000000</td>\n",
       "      <td>0.000048</td>\n",
       "    </tr>\n",
       "    <tr>\n",
       "      <th>ERROR</th>\n",
       "      <td>0.000000</td>\n",
       "      <td>2.694081</td>\n",
       "    </tr>\n",
       "    <tr>\n",
       "      <th>FAILURE</th>\n",
       "      <td>0.000000</td>\n",
       "      <td>0.039782</td>\n",
       "    </tr>\n",
       "    <tr>\n",
       "      <th>FATAL</th>\n",
       "      <td>12.682272</td>\n",
       "      <td>13.233039</td>\n",
       "    </tr>\n",
       "    <tr>\n",
       "      <th>INFO</th>\n",
       "      <td>0.000000</td>\n",
       "      <td>83.046501</td>\n",
       "    </tr>\n",
       "    <tr>\n",
       "      <th>KERNEL</th>\n",
       "      <td>0.000000</td>\n",
       "      <td>0.000193</td>\n",
       "    </tr>\n",
       "    <tr>\n",
       "      <th>SEVERE</th>\n",
       "      <td>0.000000</td>\n",
       "      <td>0.451446</td>\n",
       "    </tr>\n",
       "    <tr>\n",
       "      <th>WARNING</th>\n",
       "      <td>0.000000</td>\n",
       "      <td>0.534862</td>\n",
       "    </tr>\n",
       "    <tr>\n",
       "      <th>a</th>\n",
       "      <td>0.000000</td>\n",
       "      <td>0.000048</td>\n",
       "    </tr>\n",
       "  </tbody>\n",
       "</table>\n",
       "</div>"
      ],
      "text/plain": [
       "            Abnormal  Data Distribution\n",
       "ErrorType                              \n",
       "0           0.000000           0.000048\n",
       "ERROR       0.000000           2.694081\n",
       "FAILURE     0.000000           0.039782\n",
       "FATAL      12.682272          13.233039\n",
       "INFO        0.000000          83.046501\n",
       "KERNEL      0.000000           0.000193\n",
       "SEVERE      0.000000           0.451446\n",
       "WARNING     0.000000           0.534862\n",
       "a           0.000000           0.000048"
      ]
     },
     "execution_count": 55,
     "metadata": {},
     "output_type": "execute_result"
    }
   ],
   "source": [
    "col = \"ErrorType\"\n",
    "analyse = df[[col, \"Abnormal\"]].groupby(col).mean() * 100\n",
    "analyse[\"Data Distribution\"] = df[[col, \"Abnormal\"]].groupby(col).count()/len(df) * 100\n",
    "analyse"
   ]
  },
  {
   "cell_type": "code",
   "execution_count": 56,
   "id": "112ba96c",
   "metadata": {
    "execution": {
     "iopub.execute_input": "2022-12-14T07:28:58.362752Z",
     "iopub.status.busy": "2022-12-14T07:28:58.362053Z",
     "iopub.status.idle": "2022-12-14T07:28:58.590245Z",
     "shell.execute_reply": "2022-12-14T07:28:58.589359Z"
    },
    "papermill": {
     "duration": 0.261456,
     "end_time": "2022-12-14T07:28:58.592536",
     "exception": false,
     "start_time": "2022-12-14T07:28:58.331080",
     "status": "completed"
    },
    "tags": []
   },
   "outputs": [
    {
     "data": {
      "text/plain": [
       "Text(0, 0.5, 'Data %age in each attribute value')"
      ]
     },
     "execution_count": 56,
     "metadata": {},
     "output_type": "execute_result"
    },
    {
     "data": {
      "image/png": "[encoded data removed]",
      "text/plain": [
       "<Figure size 432x288 with 1 Axes>"
      ]
     },
     "metadata": {
      "needs_background": "light"
     },
     "output_type": "display_data"
    }
   ],
   "source": [
    "ax = analyse[\"Data Distribution\"].plot(kind=\"bar\")\n",
    "ax.set_ylabel(\"Data %age in each attribute value\")"
   ]
  },
  {
   "cell_type": "code",
   "execution_count": 57,
   "id": "fd3a8b11",
   "metadata": {
    "execution": {
     "iopub.execute_input": "2022-12-14T07:28:58.656609Z",
     "iopub.status.busy": "2022-12-14T07:28:58.655923Z",
     "iopub.status.idle": "2022-12-14T07:28:58.872277Z",
     "shell.execute_reply": "2022-12-14T07:28:58.871116Z"
    },
    "papermill": {
     "duration": 0.250629,
     "end_time": "2022-12-14T07:28:58.874837",
     "exception": false,
     "start_time": "2022-12-14T07:28:58.624208",
     "status": "completed"
    },
    "tags": []
   },
   "outputs": [
    {
     "data": {
      "text/plain": [
       "Text(0, 0.5, 'Percentage of Abnormal Failures')"
      ]
     },
     "execution_count": 57,
     "metadata": {},
     "output_type": "execute_result"
    },
    {
     "data": {
      "image/png": "[encoded data removed]",
      "text/plain": [
       "<Figure size 432x288 with 1 Axes>"
      ]
     },
     "metadata": {
      "needs_background": "light"
     },
     "output_type": "display_data"
    }
   ],
   "source": [
    "ax = analyse[\"Abnormal\"].plot(kind=\"bar\")\n",
    "ax.set_ylabel(\"Percentage of Abnormal Failures\")"
   ]
  }
 ],
 "metadata": {
  "kernelspec": {
   "display_name": "Python 3",
   "language": "python",
   "name": "python3"
  },
  "language_info": {
   "codemirror_mode": {
    "name": "ipython",
    "version": 3
   },
   "file_extension": ".py",
   "mimetype": "text/x-python",
   "name": "python",
   "nbconvert_exporter": "python",
   "pygments_lexer": "ipython3",
   "version": "3.7.12"
  },
  "papermill": {
   "default_parameters": {},
   "duration": 243.471411,
   "end_time": "2022-12-14T07:29:01.727531",
   "environment_variables": {},
   "exception": null,
   "input_path": "__notebook__.ipynb",
   "output_path": "__notebook__.ipynb",
   "parameters": {},
   "start_time": "2022-12-14T07:24:58.256120",
   "version": "2.3.4"
  }
 },
 "nbformat": 4,
 "nbformat_minor": 5
}
